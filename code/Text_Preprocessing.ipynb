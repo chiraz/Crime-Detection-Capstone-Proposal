{
 "cells": [
  {
   "cell_type": "markdown",
   "metadata": {},
   "source": [
    "## Introduction\n",
    "\n",
    "**Objective**\n",
    "\n",
    "This script basically preprocesses/cleans the raw textual content of our news articles, in order to reduce unwanted variation at the character and word levels. Obviously the preprocessing operations are particular to the Arabic language and to our particular corpus. These operations are mainly:\n",
    "\n",
    "- orthographic normalization of arabic characters that are commonly written in various ways, such as the alif character.\n",
    "- removal of diacritic marks and tatwil character, which are useless to word meaning.\n",
    "- remove urls and redundant whitespace\n",
    "- remove remnant html markup text\n",
    "\n",
    "**Pipeline**\n",
    "\n",
    "1. read articles raw data from a pickle file (as a dataframe)\n",
    "2. preprocess the text content\n",
    "3. append clean data to dataframe and store in a new pickle file"
   ]
  },
  {
   "cell_type": "code",
   "execution_count": 8,
   "metadata": {},
   "outputs": [],
   "source": [
    "import pandas as pd\n",
    "import re"
   ]
  },
  {
   "cell_type": "code",
   "execution_count": 9,
   "metadata": {},
   "outputs": [],
   "source": [
    "from arabic_nlp_utils import remove_tatweel, remove_diacritics, normalize_arabic_letters"
   ]
  },
  {
   "cell_type": "markdown",
   "metadata": {},
   "source": [
    "## Read Raw Data"
   ]
  },
  {
   "cell_type": "code",
   "execution_count": 2,
   "metadata": {},
   "outputs": [
    {
     "data": {
      "text/plain": [
       "(7485, 6)"
      ]
     },
     "execution_count": 2,
     "metadata": {},
     "output_type": "execute_result"
    }
   ],
   "source": [
    "import pickle\n",
    "\n",
    "with open('../pickle/articles_db.pickle', 'rb') as f:\n",
    "    articles_data_df = pickle.load(f)\n",
    "\n",
    "articles_data_df.shape"
   ]
  },
  {
   "cell_type": "code",
   "execution_count": 4,
   "metadata": {},
   "outputs": [
    {
     "data": {
      "text/html": [
       "<div>\n",
       "<style scoped>\n",
       "    .dataframe tbody tr th:only-of-type {\n",
       "        vertical-align: middle;\n",
       "    }\n",
       "\n",
       "    .dataframe tbody tr th {\n",
       "        vertical-align: top;\n",
       "    }\n",
       "\n",
       "    .dataframe thead th {\n",
       "        text-align: right;\n",
       "    }\n",
       "</style>\n",
       "<table border=\"1\" class=\"dataframe\">\n",
       "  <thead>\n",
       "    <tr style=\"text-align: right;\">\n",
       "      <th></th>\n",
       "      <th>title</th>\n",
       "      <th>hyperlink</th>\n",
       "      <th>date</th>\n",
       "      <th>date_dt</th>\n",
       "      <th>filename</th>\n",
       "      <th>raw_text</th>\n",
       "    </tr>\n",
       "  </thead>\n",
       "  <tbody>\n",
       "    <tr>\n",
       "      <th>0</th>\n",
       "      <td>جريمة بأطوار غريبة..استيقظ الزوج ليلا فوجد زو...</td>\n",
       "      <td>https://www.assarih.com/a161665--جريمة-بأطوار-...</td>\n",
       "      <td>26 فيفري 2020</td>\n",
       "      <td>2020-02-26</td>\n",
       "      <td>www.assarih.com___جريمة_بأطوار_غريبة__استيقظ_ا...</td>\n",
       "      <td>googletag.cmd.push(function() { googletag.disp...</td>\n",
       "    </tr>\n",
       "    <tr>\n",
       "      <th>1</th>\n",
       "      <td>يحدث في تونس : تلميذ يعتدي على زميلته بـ«لام» ...</td>\n",
       "      <td>https://www.assarih.com/a161660-يحدث-في-تونس--...</td>\n",
       "      <td>26 فيفري 2020</td>\n",
       "      <td>2020-02-26</td>\n",
       "      <td>www.assarih.com__يحدث_في_تونس___تلميذ_يعتدي_عل...</td>\n",
       "      <td>googletag.cmd.push(function() { googletag.disp...</td>\n",
       "    </tr>\n",
       "    <tr>\n",
       "      <th>2</th>\n",
       "      <td>حملة أمنية في بنزرت (صور)</td>\n",
       "      <td>https://www.assarih.com/a161656-حملة-أمنية-في-...</td>\n",
       "      <td>26 فيفري 2020</td>\n",
       "      <td>2020-02-26</td>\n",
       "      <td>www.assarih.com__حملة_أمنية_في_بنزرت__صور_.txt</td>\n",
       "      <td>https://www.assarih.com/a158092-حملة-أمنية-في-...</td>\n",
       "    </tr>\n",
       "    <tr>\n",
       "      <th>3</th>\n",
       "      <td>تزامنا مع التخوفات من \"كورونا\" : وفاة جديدة با...</td>\n",
       "      <td>https://www.assarih.com/a161648-تزامنا-مع-التخ...</td>\n",
       "      <td>26 فيفري 2020</td>\n",
       "      <td>2020-02-26</td>\n",
       "      <td>www.assarih.com__تزامنا_مع_التخوفات_من__كورونا...</td>\n",
       "      <td>googletag.cmd.push(function() { googletag.disp...</td>\n",
       "    </tr>\n",
       "    <tr>\n",
       "      <th>4</th>\n",
       "      <td>تورط في 10 قضايا تحويل وجهة : سفاح النساء بالا...</td>\n",
       "      <td>https://www.assarih.com/a161647-تورط-في-10-قضا...</td>\n",
       "      <td>26 فيفري 2020</td>\n",
       "      <td>2020-02-26</td>\n",
       "      <td>www.assarih.com__تورط_في_10_قضايا_تحويل_وجهة__...</td>\n",
       "      <td>googletag.cmd.push(function() { googletag.disp...</td>\n",
       "    </tr>\n",
       "  </tbody>\n",
       "</table>\n",
       "</div>"
      ],
      "text/plain": [
       "                                               title  \\\n",
       "0   جريمة بأطوار غريبة..استيقظ الزوج ليلا فوجد زو...   \n",
       "1  يحدث في تونس : تلميذ يعتدي على زميلته بـ«لام» ...   \n",
       "2                          حملة أمنية في بنزرت (صور)   \n",
       "3  تزامنا مع التخوفات من \"كورونا\" : وفاة جديدة با...   \n",
       "4  تورط في 10 قضايا تحويل وجهة : سفاح النساء بالا...   \n",
       "\n",
       "                                           hyperlink           date  \\\n",
       "0  https://www.assarih.com/a161665--جريمة-بأطوار-...  26 فيفري 2020   \n",
       "1  https://www.assarih.com/a161660-يحدث-في-تونس--...  26 فيفري 2020   \n",
       "2  https://www.assarih.com/a161656-حملة-أمنية-في-...  26 فيفري 2020   \n",
       "3  https://www.assarih.com/a161648-تزامنا-مع-التخ...  26 فيفري 2020   \n",
       "4  https://www.assarih.com/a161647-تورط-في-10-قضا...  26 فيفري 2020   \n",
       "\n",
       "     date_dt                                           filename  \\\n",
       "0 2020-02-26  www.assarih.com___جريمة_بأطوار_غريبة__استيقظ_ا...   \n",
       "1 2020-02-26  www.assarih.com__يحدث_في_تونس___تلميذ_يعتدي_عل...   \n",
       "2 2020-02-26     www.assarih.com__حملة_أمنية_في_بنزرت__صور_.txt   \n",
       "3 2020-02-26  www.assarih.com__تزامنا_مع_التخوفات_من__كورونا...   \n",
       "4 2020-02-26  www.assarih.com__تورط_في_10_قضايا_تحويل_وجهة__...   \n",
       "\n",
       "                                            raw_text  \n",
       "0  googletag.cmd.push(function() { googletag.disp...  \n",
       "1  googletag.cmd.push(function() { googletag.disp...  \n",
       "2  https://www.assarih.com/a158092-حملة-أمنية-في-...  \n",
       "3  googletag.cmd.push(function() { googletag.disp...  \n",
       "4  googletag.cmd.push(function() { googletag.disp...  "
      ]
     },
     "execution_count": 4,
     "metadata": {},
     "output_type": "execute_result"
    }
   ],
   "source": [
    "articles_data_df.head()"
   ]
  },
  {
   "cell_type": "code",
   "execution_count": 5,
   "metadata": {},
   "outputs": [
    {
     "data": {
      "text/html": [
       "<div>\n",
       "<style scoped>\n",
       "    .dataframe tbody tr th:only-of-type {\n",
       "        vertical-align: middle;\n",
       "    }\n",
       "\n",
       "    .dataframe tbody tr th {\n",
       "        vertical-align: top;\n",
       "    }\n",
       "\n",
       "    .dataframe thead th {\n",
       "        text-align: right;\n",
       "    }\n",
       "</style>\n",
       "<table border=\"1\" class=\"dataframe\">\n",
       "  <thead>\n",
       "    <tr style=\"text-align: right;\">\n",
       "      <th></th>\n",
       "      <th>title</th>\n",
       "      <th>hyperlink</th>\n",
       "      <th>date</th>\n",
       "      <th>date_dt</th>\n",
       "      <th>filename</th>\n",
       "      <th>raw_text</th>\n",
       "    </tr>\n",
       "  </thead>\n",
       "  <tbody>\n",
       "    <tr>\n",
       "      <th>7480</th>\n",
       "      <td>جزائريون بالطارف منعوا 20 سيارة تونسية من العب...</td>\n",
       "      <td>https://www.assarih.com/a129489-جزائريون-بالطا...</td>\n",
       "      <td>12 مارس 2019</td>\n",
       "      <td>2019-03-12</td>\n",
       "      <td>www.assarih.com__جزائريون_بالطارف_منعوا_20_سيا...</td>\n",
       "      <td>https://www.assarih.com/a129489-جزائريون-بالطا...</td>\n",
       "    </tr>\n",
       "    <tr>\n",
       "      <th>7481</th>\n",
       "      <td>أميرها إمام جامع : محاكمة كتيبة إرهابية خططت ل...</td>\n",
       "      <td>https://www.assarih.com/a129488-أميرها-إمام-جا...</td>\n",
       "      <td>12 مارس 2019</td>\n",
       "      <td>2019-03-12</td>\n",
       "      <td>www.assarih.com__أميرها_إمام_جامع___محاكمة_كتي...</td>\n",
       "      <td>https://www.assarih.com/a129488-أميرها-إمام-جا...</td>\n",
       "    </tr>\n",
       "    <tr>\n",
       "      <th>7482</th>\n",
       "      <td>خاص/ القصرين : معركة بين دوريات أمنية ومروجي م...</td>\n",
       "      <td>https://www.assarih.com/a129487-خاص--القصرين--...</td>\n",
       "      <td>12 مارس 2019</td>\n",
       "      <td>2019-03-12</td>\n",
       "      <td>www.assarih.com__خاص__القصرين___معركة_بين_دوري...</td>\n",
       "      <td>https://www.assarih.com/a129487-خاص--القصرين--...</td>\n",
       "    </tr>\n",
       "    <tr>\n",
       "      <th>7483</th>\n",
       "      <td>في البحيرة : أثيوبية تضع في فم مولودها كمية من...</td>\n",
       "      <td>https://www.assarih.com/a129486-في-البحيرة---أ...</td>\n",
       "      <td>12 مارس 2019</td>\n",
       "      <td>2019-03-12</td>\n",
       "      <td>www.assarih.com__في_البحيرة___أثيوبية_تضع_في_ف...</td>\n",
       "      <td>https://www.assarih.com/a129486-في-البحيرة---أ...</td>\n",
       "    </tr>\n",
       "    <tr>\n",
       "      <th>7484</th>\n",
       "      <td>في المنستير: ينكّل بوالدته ويضعها على السرير ب...</td>\n",
       "      <td>https://www.assarih.com/a129485-في-المنستير--ي...</td>\n",
       "      <td>12 مارس 2019</td>\n",
       "      <td>2019-03-12</td>\n",
       "      <td>www.assarih.com__في_المنستير__ينك_ل_بوالدته_وي...</td>\n",
       "      <td>https://www.assarih.com/a129485-في-المنستير--ي...</td>\n",
       "    </tr>\n",
       "  </tbody>\n",
       "</table>\n",
       "</div>"
      ],
      "text/plain": [
       "                                                  title  \\\n",
       "7480  جزائريون بالطارف منعوا 20 سيارة تونسية من العب...   \n",
       "7481  أميرها إمام جامع : محاكمة كتيبة إرهابية خططت ل...   \n",
       "7482  خاص/ القصرين : معركة بين دوريات أمنية ومروجي م...   \n",
       "7483  في البحيرة : أثيوبية تضع في فم مولودها كمية من...   \n",
       "7484  في المنستير: ينكّل بوالدته ويضعها على السرير ب...   \n",
       "\n",
       "                                              hyperlink          date  \\\n",
       "7480  https://www.assarih.com/a129489-جزائريون-بالطا...  12 مارس 2019   \n",
       "7481  https://www.assarih.com/a129488-أميرها-إمام-جا...  12 مارس 2019   \n",
       "7482  https://www.assarih.com/a129487-خاص--القصرين--...  12 مارس 2019   \n",
       "7483  https://www.assarih.com/a129486-في-البحيرة---أ...  12 مارس 2019   \n",
       "7484  https://www.assarih.com/a129485-في-المنستير--ي...  12 مارس 2019   \n",
       "\n",
       "        date_dt                                           filename  \\\n",
       "7480 2019-03-12  www.assarih.com__جزائريون_بالطارف_منعوا_20_سيا...   \n",
       "7481 2019-03-12  www.assarih.com__أميرها_إمام_جامع___محاكمة_كتي...   \n",
       "7482 2019-03-12  www.assarih.com__خاص__القصرين___معركة_بين_دوري...   \n",
       "7483 2019-03-12  www.assarih.com__في_البحيرة___أثيوبية_تضع_في_ف...   \n",
       "7484 2019-03-12  www.assarih.com__في_المنستير__ينك_ل_بوالدته_وي...   \n",
       "\n",
       "                                               raw_text  \n",
       "7480  https://www.assarih.com/a129489-جزائريون-بالطا...  \n",
       "7481  https://www.assarih.com/a129488-أميرها-إمام-جا...  \n",
       "7482  https://www.assarih.com/a129487-خاص--القصرين--...  \n",
       "7483  https://www.assarih.com/a129486-في-البحيرة---أ...  \n",
       "7484  https://www.assarih.com/a129485-في-المنستير--ي...  "
      ]
     },
     "execution_count": 5,
     "metadata": {},
     "output_type": "execute_result"
    }
   ],
   "source": [
    "articles_data_df.tail()"
   ]
  },
  {
   "cell_type": "markdown",
   "metadata": {},
   "source": [
    "*****"
   ]
  },
  {
   "cell_type": "markdown",
   "metadata": {},
   "source": [
    "## Cleanup Text"
   ]
  },
  {
   "cell_type": "code",
   "execution_count": 10,
   "metadata": {},
   "outputs": [],
   "source": [
    "def cleanup_text(text):\n",
    "    if text == '':\n",
    "        return ''\n",
    "    # orthographic normalization of certain arabic characters\n",
    "    text = remove_diacritics(text)\n",
    "    text = remove_tatweel(text)\n",
    "    text = normalize_arabic_letters(text)\n",
    "    \n",
    "    ## remove urls\n",
    "    text = re.sub('((www\\.[^\\s]+)|(https?://[^\\s]+))', '', text)\n",
    "\n",
    "    ## TO DO: light stemming based on common prefixes\n",
    "\n",
    "    # Replace special markup text between {}\n",
    "    text = re.sub('[a-zA-Z]+[a-zA-Z\\-\\s\\d{}();\\.\\']+', ' ', text)\n",
    "\n",
    "    # Remove redundant white spaces\n",
    "    text = re.sub('\\s+', ' ', text)\n",
    "    text = text.strip()\n",
    "\n",
    "    return text"
   ]
  },
  {
   "cell_type": "code",
   "execution_count": 11,
   "metadata": {},
   "outputs": [
    {
     "name": "stdout",
     "output_type": "stream",
     "text": [
      "بِسْمِ اللهِ الرَّحْمٰنِ الرَّحِيمِ\n",
      "بسم الله الرحمٰن الرحيم\n",
      " ؤ ئ إ أ ٱ آ واسى في\n",
      "ء ء ا ا ا ا واسي في\n",
      "جـــمـــيـــل\n",
      "جميل\n",
      "مواڞفات وسعر هاتف أيفون 8  ڞ الجديد\n",
      "مواڞفات وسعر هاتف ايفون 8 ڞ الجديد\n"
     ]
    }
   ],
   "source": [
    "L = [\"بِسْمِ اللهِ الرَّحْمٰنِ الرَّحِيمِ\" ,  \" ؤ ئ إ أ ٱ آ واسى في\" , 'جـــمـــيـــل' , \"مواڞفات وسعر هاتف أيفون 8  ڞ الجديد\"]\n",
    "for x in L:\n",
    "    print(x)\n",
    "    print(cleanup_text(x))"
   ]
  },
  {
   "cell_type": "code",
   "execution_count": 12,
   "metadata": {},
   "outputs": [
    {
     "data": {
      "text/plain": [
       "''"
      ]
     },
     "execution_count": 12,
     "metadata": {},
     "output_type": "execute_result"
    }
   ],
   "source": [
    "text = \"googletag.cmd.push(function() { googletag.display('div-gpt-ad-1546942376253-0'); });   \"\n",
    "cleanup_text(text)"
   ]
  },
  {
   "cell_type": "code",
   "execution_count": 14,
   "metadata": {},
   "outputs": [
    {
     "data": {
      "text/plain": [
       "Index(['title', 'hyperlink', 'date', 'date_dt', 'filename', 'raw_text'], dtype='object')"
      ]
     },
     "execution_count": 14,
     "metadata": {},
     "output_type": "execute_result"
    }
   ],
   "source": [
    "articles_data_df.columns"
   ]
  },
  {
   "cell_type": "code",
   "execution_count": 15,
   "metadata": {},
   "outputs": [
    {
     "name": "stdout",
     "output_type": "stream",
     "text": [
      "Wall time: 1.1 s\n"
     ]
    },
    {
     "data": {
      "text/html": [
       "<div>\n",
       "<style scoped>\n",
       "    .dataframe tbody tr th:only-of-type {\n",
       "        vertical-align: middle;\n",
       "    }\n",
       "\n",
       "    .dataframe tbody tr th {\n",
       "        vertical-align: top;\n",
       "    }\n",
       "\n",
       "    .dataframe thead th {\n",
       "        text-align: right;\n",
       "    }\n",
       "</style>\n",
       "<table border=\"1\" class=\"dataframe\">\n",
       "  <thead>\n",
       "    <tr style=\"text-align: right;\">\n",
       "      <th></th>\n",
       "      <th>title</th>\n",
       "      <th>hyperlink</th>\n",
       "      <th>date</th>\n",
       "      <th>date_dt</th>\n",
       "      <th>filename</th>\n",
       "      <th>raw_text</th>\n",
       "      <th>clean_text</th>\n",
       "    </tr>\n",
       "  </thead>\n",
       "  <tbody>\n",
       "    <tr>\n",
       "      <th>0</th>\n",
       "      <td>جريمة بأطوار غريبة..استيقظ الزوج ليلا فوجد زو...</td>\n",
       "      <td>https://www.assarih.com/a161665--جريمة-بأطوار-...</td>\n",
       "      <td>26 فيفري 2020</td>\n",
       "      <td>2020-02-26</td>\n",
       "      <td>www.assarih.com___جريمة_بأطوار_غريبة__استيقظ_ا...</td>\n",
       "      <td>googletag.cmd.push(function() { googletag.disp...</td>\n",
       "      <td>هي جريمة اخري ولكن باطوار وتطورات غريبة تلك ال...</td>\n",
       "    </tr>\n",
       "    <tr>\n",
       "      <th>1</th>\n",
       "      <td>يحدث في تونس : تلميذ يعتدي على زميلته بـ«لام» ...</td>\n",
       "      <td>https://www.assarih.com/a161660-يحدث-في-تونس--...</td>\n",
       "      <td>26 فيفري 2020</td>\n",
       "      <td>2020-02-26</td>\n",
       "      <td>www.assarih.com__يحدث_في_تونس___تلميذ_يعتدي_عل...</td>\n",
       "      <td>googletag.cmd.push(function() { googletag.disp...</td>\n",
       "      <td>تمكنت دورية تابعة لمركز الحرس الوطني ببومهل من...</td>\n",
       "    </tr>\n",
       "    <tr>\n",
       "      <th>2</th>\n",
       "      <td>حملة أمنية في بنزرت (صور)</td>\n",
       "      <td>https://www.assarih.com/a161656-حملة-أمنية-في-...</td>\n",
       "      <td>26 فيفري 2020</td>\n",
       "      <td>2020-02-26</td>\n",
       "      <td>www.assarih.com__حملة_أمنية_في_بنزرت__صور_.txt</td>\n",
       "      <td>https://www.assarih.com/a158092-حملة-أمنية-في-...</td>\n",
       "      <td>صور من حملة امنية بمدينة بنزرت واكبتها الصريح ...</td>\n",
       "    </tr>\n",
       "    <tr>\n",
       "      <th>3</th>\n",
       "      <td>تزامنا مع التخوفات من \"كورونا\" : وفاة جديدة با...</td>\n",
       "      <td>https://www.assarih.com/a161648-تزامنا-مع-التخ...</td>\n",
       "      <td>26 فيفري 2020</td>\n",
       "      <td>2020-02-26</td>\n",
       "      <td>www.assarih.com__تزامنا_مع_التخوفات_من__كورونا...</td>\n",
       "      <td>googletag.cmd.push(function() { googletag.disp...</td>\n",
       "      <td>تم اليوم الاربعاء 26 فيفري 2020 تسجيل حالتي اص...</td>\n",
       "    </tr>\n",
       "    <tr>\n",
       "      <th>4</th>\n",
       "      <td>تورط في 10 قضايا تحويل وجهة : سفاح النساء بالا...</td>\n",
       "      <td>https://www.assarih.com/a161647-تورط-في-10-قضا...</td>\n",
       "      <td>26 فيفري 2020</td>\n",
       "      <td>2020-02-26</td>\n",
       "      <td>www.assarih.com__تورط_في_10_قضايا_تحويل_وجهة__...</td>\n",
       "      <td>googletag.cmd.push(function() { googletag.disp...</td>\n",
       "      <td>تمكن اعوان واطارات شرطة رياض النصر باريانة من ...</td>\n",
       "    </tr>\n",
       "  </tbody>\n",
       "</table>\n",
       "</div>"
      ],
      "text/plain": [
       "                                               title  \\\n",
       "0   جريمة بأطوار غريبة..استيقظ الزوج ليلا فوجد زو...   \n",
       "1  يحدث في تونس : تلميذ يعتدي على زميلته بـ«لام» ...   \n",
       "2                          حملة أمنية في بنزرت (صور)   \n",
       "3  تزامنا مع التخوفات من \"كورونا\" : وفاة جديدة با...   \n",
       "4  تورط في 10 قضايا تحويل وجهة : سفاح النساء بالا...   \n",
       "\n",
       "                                           hyperlink           date  \\\n",
       "0  https://www.assarih.com/a161665--جريمة-بأطوار-...  26 فيفري 2020   \n",
       "1  https://www.assarih.com/a161660-يحدث-في-تونس--...  26 فيفري 2020   \n",
       "2  https://www.assarih.com/a161656-حملة-أمنية-في-...  26 فيفري 2020   \n",
       "3  https://www.assarih.com/a161648-تزامنا-مع-التخ...  26 فيفري 2020   \n",
       "4  https://www.assarih.com/a161647-تورط-في-10-قضا...  26 فيفري 2020   \n",
       "\n",
       "     date_dt                                           filename  \\\n",
       "0 2020-02-26  www.assarih.com___جريمة_بأطوار_غريبة__استيقظ_ا...   \n",
       "1 2020-02-26  www.assarih.com__يحدث_في_تونس___تلميذ_يعتدي_عل...   \n",
       "2 2020-02-26     www.assarih.com__حملة_أمنية_في_بنزرت__صور_.txt   \n",
       "3 2020-02-26  www.assarih.com__تزامنا_مع_التخوفات_من__كورونا...   \n",
       "4 2020-02-26  www.assarih.com__تورط_في_10_قضايا_تحويل_وجهة__...   \n",
       "\n",
       "                                            raw_text  \\\n",
       "0  googletag.cmd.push(function() { googletag.disp...   \n",
       "1  googletag.cmd.push(function() { googletag.disp...   \n",
       "2  https://www.assarih.com/a158092-حملة-أمنية-في-...   \n",
       "3  googletag.cmd.push(function() { googletag.disp...   \n",
       "4  googletag.cmd.push(function() { googletag.disp...   \n",
       "\n",
       "                                          clean_text  \n",
       "0  هي جريمة اخري ولكن باطوار وتطورات غريبة تلك ال...  \n",
       "1  تمكنت دورية تابعة لمركز الحرس الوطني ببومهل من...  \n",
       "2  صور من حملة امنية بمدينة بنزرت واكبتها الصريح ...  \n",
       "3  تم اليوم الاربعاء 26 فيفري 2020 تسجيل حالتي اص...  \n",
       "4  تمكن اعوان واطارات شرطة رياض النصر باريانة من ...  "
      ]
     },
     "execution_count": 15,
     "metadata": {},
     "output_type": "execute_result"
    }
   ],
   "source": [
    "%time articles_data_df['clean_text'] = articles_data_df.raw_text.map(cleanup_text)\n",
    "articles_data_df.head()"
   ]
  },
  {
   "cell_type": "code",
   "execution_count": 17,
   "metadata": {},
   "outputs": [
    {
     "data": {
      "text/plain": [
       "'googletag.cmd.push(function() { googletag.display(\\'div-gpt-ad-1546942376253-0\\'); });    هي جريمة أخرى ولكن بأطوار وتطورات غريبة تلك التي شهدتها مدينة الجيزة، وذلك بعد أن أقدم زوج بالتعاون مع والده على قتل زوجته، وتم إيقافهما على الفور من قبل وحدات الأمن ليزعم الزوج أنه قتلها بعدما شاهدها تمارس الجنس مع والده! وأوضح الزوج المتهم في أقواله أمام النيابة العامة، إنه هناك خلافات شبه مستمرة بينه وبين زوجته؛ بسبب اكتشافه سوء سلوكها.  أضاف المتهم في ذات الأقوال أنه يقيم صحبة زوجته وأولادهما وأولاده من زوجة سابقة في شقة واحدة رفقة والده البالغ من العمر 70 عامًا؛ حيث يقيم هو وزوجته والأطفال في غرفة واحدة، والغرفة الأخرى يقيم بها والده؛ وبسبب هطول الأمطار المستمرة خلال الأيام الماضية على المدينة اضطر المتهم لترك غرفته، والنوم جميعًا برفقة والده على فراش واحد، مستخدمين غطاء واحد ليقيهم من البرد. واصل المتهم اعترافاته، مشيرا إلى أنه استيقظ ليلًا على أصوات وهمهمات ليتفاجأ بزوجته ووالده اللذان كانا ينامان بجانبه وهما بصدد ممارسة الجنس؛ وعندما شعرا باستيقاظه ادعيا النوم، فقام الزوج واصطحب الأطفال خارج الغرفة، وعاد حاملًا سكينا سدد بها طعنة في بطن زوجته، فصرخ والده وهو يحاول الاستفسار منه على سبب جريمته، نافيًا إقامته علاقة جنسية مع زوجة إبنه. شرحت التحقيقات واعترافات المتهم أن الزوجة كانت لاتزال على قيد الحياة عقب طعنها، وعندما حاولت التحدث والاعتراف لزوجها بعلاقتها مع والده، قام \"حماها\" بلف شال حول رقبتها وخنقها حتى الموت، وتصادف مع ذلك مشاهدة إحدى الفتيات للجريمة، وشهدت بإقامة المجني عليها وجدها علاقة جنسية وعندما شاهدهما الأب أنهى حياة زوجته. واستمعت النيابة العامة لأقوال 2 من الأطفال شهود العيان، ولا تزال التحقيقات مستمرة في أطوار جريمة غريبة…  المصدر: وكالات        googletag.cmd.push(function() { googletag.display(\\'div-gpt-ad-1546942685971-0\\'); });'"
      ]
     },
     "execution_count": 17,
     "metadata": {},
     "output_type": "execute_result"
    }
   ],
   "source": [
    "articles_data_df.raw_text[0]"
   ]
  },
  {
   "cell_type": "code",
   "execution_count": 18,
   "metadata": {},
   "outputs": [
    {
     "data": {
      "text/plain": [
       "'هي جريمة اخري ولكن باطوار وتطورات غريبة تلك التي شهدتها مدينة الجيزة، وذلك بعد ان اقدم زوج بالتعاون مع والده علي قتل زوجته، وتم ايقافهما علي الفور من قبل وحدات الامن ليزعم الزوج انه قتلها بعدما شاهدها تمارس الجنس مع والده! واوضح الزوج المتهم في اقواله امام النيابة العامة، انه هناك خلافات شبه مستمرة بينه وبين زوجته؛ بسبب اكتشافه سوء سلوكها. اضاف المتهم في ذات الاقوال انه يقيم صحبة زوجته واولادهما واولاده من زوجة سابقة في شقة واحدة رفقة والده البالغ من العمر 70 عاما؛ حيث يقيم هو وزوجته والاطفال في غرفة واحدة، والغرفة الاخري يقيم بها والده؛ وبسبب هطول الامطار المستمرة خلال الايام الماضية علي المدينة اضطر المتهم لترك غرفته، والنوم جميعا برفقة والده علي فراش واحد، مستخدمين غطاء واحد ليقيهم من البرد. واصل المتهم اعترافاته، مشيرا الي انه استيقظ ليلا علي اصوات وهمهمات ليتفاجا بزوجته ووالده اللذان كانا ينامان بجانبه وهما بصدد ممارسة الجنس؛ وعندما شعرا باستيقاظه ادعيا النوم، فقام الزوج واصطحب الاطفال خارج الغرفة، وعاد حاملا سكينا سدد بها طعنة في بطن زوجته، فصرخ والده وهو يحاول الاستفسار منه علي سبب جريمته، نافيا اقامته علاقة جنسية مع زوجة ابنه. شرحت التحقيقات واعترافات المتهم ان الزوجة كانت لاتزال علي قيد الحياة عقب طعنها، وعندما حاولت التحدث والاعتراف لزوجها بعلاقتها مع والده، قام \"حماها\" بلف شال حول رقبتها وخنقها حتي الموت، وتصادف مع ذلك مشاهدة احدي الفتيات للجريمة، وشهدت باقامة المجني عليها وجدها علاقة جنسية وعندما شاهدهما الاب انهي حياة زوجته. واستمعت النيابة العامة لاقوال 2 من الاطفال شهود العيان، ولا تزال التحقيقات مستمرة في اطوار جريمة غريبة… المصدر: وكالات'"
      ]
     },
     "execution_count": 18,
     "metadata": {},
     "output_type": "execute_result"
    }
   ],
   "source": [
    "articles_data_df.clean_text[0]"
   ]
  },
  {
   "cell_type": "code",
   "execution_count": 19,
   "metadata": {},
   "outputs": [
    {
     "data": {
      "text/plain": [
       "\"https://www.assarih.com/a161240-اعترافات-جديدة-لإمام-جامع-المرسى--دنّس-المصاحف-..تحرش-بقاصر-ورسائل-غير-أخلاقية-مع-طفلة--متابعة--\\ngoogletag.cmd.push(function() { googletag.display('div-gpt-ad-1546942376253-0'); });    أكد مصدر امني موثوق للصريح اون لاين بأن إمام جامع الرحمان بجبل الخاوي بالمرسى، كشف من خلال اعترافاته عن تجاوزات جديدة من بينها الكشف عن رسائل غير أخلاقية في هاتفه الجوال يتبادلها عبر تطبيقة «الميسنجر» مع طفلة تبلغ من السن 13 عاما، وباستدعاءها تبين ان الامام كان يقدم لها دروسا في العلوم الشرعية والدينية. وبينت الابحاث من خلال المكافحة بينهما انه اعتدى عليها بالفاحشة في أكثر من مرة ووجهت اليه تهمة الاعتداء بالفاحشة على قاصر سنها دون الـ15 عاما. كما وجهت اليه تهمة الإيهام بجريمة بعد تخريبه للمسجد والاعتداء على ذاته بآلة حادة وتدنيس المصاحف.        googletag.cmd.push(function() { googletag.display('div-gpt-ad-1546942685971-0'); });\""
      ]
     },
     "execution_count": 19,
     "metadata": {},
     "output_type": "execute_result"
    }
   ],
   "source": [
    "articles_data_df.raw_text[100]"
   ]
  },
  {
   "cell_type": "code",
   "execution_count": 20,
   "metadata": {},
   "outputs": [
    {
     "data": {
      "text/plain": [
       "'اكد مصدر امني موثوق للصريح اون لاين بان امام جامع الرحمان بجبل الخاوي بالمرسي، كشف من خلال اعترافاته عن تجاوزات جديدة من بينها الكشف عن رساءل غير اخلاقية في هاتفه الجوال يتبادلها عبر تطبيقة «الميسنجر» مع طفلة تبلغ من السن 13 عاما، وباستدعاءها تبين ان الامام كان يقدم لها دروسا في العلوم الشرعية والدينية. وبينت الابحاث من خلال المكافحة بينهما انه اعتدي عليها بالفاحشة في اكثر من مرة ووجهت اليه تهمة الاعتداء بالفاحشة علي قاصر سنها دون ال15 عاما. كما وجهت اليه تهمة الايهام بجريمة بعد تخريبه للمسجد والاعتداء علي ذاته بالة حادة وتدنيس المصاحف.'"
      ]
     },
     "execution_count": 20,
     "metadata": {},
     "output_type": "execute_result"
    }
   ],
   "source": [
    "articles_data_df.clean_text[100]"
   ]
  },
  {
   "cell_type": "markdown",
   "metadata": {},
   "source": [
    "****"
   ]
  },
  {
   "cell_type": "code",
   "execution_count": 22,
   "metadata": {},
   "outputs": [
    {
     "data": {
      "text/plain": [
       "(7485, 7)"
      ]
     },
     "execution_count": 22,
     "metadata": {},
     "output_type": "execute_result"
    }
   ],
   "source": [
    "articles_data_df.shape"
   ]
  },
  {
   "cell_type": "code",
   "execution_count": 21,
   "metadata": {},
   "outputs": [],
   "source": [
    "corpus_df_filepath = '../pickle/articles_db_clean.pickle'\n",
    "\n",
    "with open(corpus_df_filepath, 'wb') as f:\n",
    "    pickle.dump(articles_data_df, f)"
   ]
  },
  {
   "cell_type": "code",
   "execution_count": null,
   "metadata": {},
   "outputs": [],
   "source": []
  }
 ],
 "metadata": {
  "kernelspec": {
   "display_name": "Python 3",
   "language": "python",
   "name": "python3"
  },
  "language_info": {
   "codemirror_mode": {
    "name": "ipython",
    "version": 3
   },
   "file_extension": ".py",
   "mimetype": "text/x-python",
   "name": "python",
   "nbconvert_exporter": "python",
   "pygments_lexer": "ipython3",
   "version": "3.7.3"
  },
  "toc": {
   "base_numbering": 1,
   "nav_menu": {},
   "number_sections": true,
   "sideBar": true,
   "skip_h1_title": false,
   "title_cell": "Table of Contents",
   "title_sidebar": "Contents",
   "toc_cell": false,
   "toc_position": {
    "height": "calc(100% - 180px)",
    "left": "10px",
    "top": "150px",
    "width": "306.26px"
   },
   "toc_section_display": true,
   "toc_window_display": true
  }
 },
 "nbformat": 4,
 "nbformat_minor": 2
}
