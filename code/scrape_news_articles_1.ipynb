{
 "cells": [
  {
   "cell_type": "code",
   "execution_count": 1,
   "metadata": {},
   "outputs": [],
   "source": [
    "import pandas as pd"
   ]
  },
  {
   "cell_type": "code",
   "execution_count": 2,
   "metadata": {},
   "outputs": [],
   "source": [
    "from scrapy import Selector"
   ]
  },
  {
   "cell_type": "code",
   "execution_count": 3,
   "metadata": {},
   "outputs": [],
   "source": [
    "import requests"
   ]
  },
  {
   "cell_type": "markdown",
   "metadata": {},
   "source": [
    "*****"
   ]
  },
  {
   "cell_type": "markdown",
   "metadata": {},
   "source": [
    "## Harvest new article urls from web portal's main page"
   ]
  },
  {
   "cell_type": "code",
   "execution_count": 4,
   "metadata": {},
   "outputs": [],
   "source": [
    "## configuration parameters specific to the Assarih newspaper\n",
    "\n",
    "#BASE_URL = 'https://www.assarih.com/r4-%D9%85%D8%AC%D8%AA%D9%85%D8%B9'   ##ENCODED FORM OF BASE URL\n",
    "BASE_URL = 'https://www.assarih.com/r4-مجتمع'\n",
    "xpath_title = \"//div[@class='article']//div[@class='article-title']/a/text()\"\n",
    "xpath_link = \"//div[@class='article']//div[@class='article-title']/a/@href\"\n",
    "xpath_date = \"//div[@class='article']//div[@class='article-title']/p/text()\"\n",
    "xpath_content = \"//div[@class='last-article']//text()\""
   ]
  },
  {
   "cell_type": "code",
   "execution_count": 5,
   "metadata": {},
   "outputs": [
    {
     "name": "stdout",
     "output_type": "stream",
     "text": [
      "50\n",
      "100\n",
      "150\n",
      "200\n",
      "250\n",
      "300\n",
      "350\n",
      "400\n",
      "450\n",
      "Harvested 7485 urls.\n"
     ]
    }
   ],
   "source": [
    "# for each article extract its (hyperlink, title, date)\n",
    "\n",
    "res = []\n",
    "start_time = time.time()\n",
    "\n",
    "for i in range(1,500):\n",
    "    url = BASE_URL+'?page={}'.format(i)\n",
    "    html = requests.get(url).content\n",
    "    sel = Selector(text = html)\n",
    "    u = sel.xpath(xpath_title).extract()\n",
    "    v = sel.xpath(xpath_link).extract()\n",
    "    w = sel.xpath(xpath_date).extract()\n",
    "    z = [y for y in [x.strip() for x in w] if y!='']\n",
    "    if len(u)!=len(v):\n",
    "        print(\"warning: u and v are of different lengths.\")\n",
    "    if len(u)!=len(z):\n",
    "        print(\"warning: u and z are of different lengths.\")\n",
    "    res = res + list(zip(u,v,z))\n",
    "    if (i%50)==0:\n",
    "        print(i)\n",
    "    #print(i,len(u),len(v),len(z))\n",
    "\n",
    "print(f\"Harvested {len(res)} urls.\")\n",
    "print(\"--- %s minutes elapsed ---\" % ((time.time() - start_time)/60))"
   ]
  },
  {
   "cell_type": "markdown",
   "metadata": {},
   "source": [
    "****"
   ]
  },
  {
   "cell_type": "markdown",
   "metadata": {},
   "source": [
    "## Store harvested urls in database"
   ]
  },
  {
   "cell_type": "code",
   "execution_count": 10,
   "metadata": {},
   "outputs": [
    {
     "data": {
      "text/plain": [
       "(7485, 3)"
      ]
     },
     "execution_count": 10,
     "metadata": {},
     "output_type": "execute_result"
    }
   ],
   "source": [
    "meta_data_df_new = pd.DataFrame(res, columns=['title','hyperlink','date'])\n",
    "meta_data_df_new.shape"
   ]
  },
  {
   "cell_type": "code",
   "execution_count": 11,
   "metadata": {},
   "outputs": [
    {
     "data": {
      "text/html": [
       "<div>\n",
       "<style scoped>\n",
       "    .dataframe tbody tr th:only-of-type {\n",
       "        vertical-align: middle;\n",
       "    }\n",
       "\n",
       "    .dataframe tbody tr th {\n",
       "        vertical-align: top;\n",
       "    }\n",
       "\n",
       "    .dataframe thead th {\n",
       "        text-align: right;\n",
       "    }\n",
       "</style>\n",
       "<table border=\"1\" class=\"dataframe\">\n",
       "  <thead>\n",
       "    <tr style=\"text-align: right;\">\n",
       "      <th></th>\n",
       "      <th>title</th>\n",
       "      <th>hyperlink</th>\n",
       "      <th>date</th>\n",
       "    </tr>\n",
       "  </thead>\n",
       "  <tbody>\n",
       "    <tr>\n",
       "      <th>0</th>\n",
       "      <td>في كافّة الولايات : عصابة تورط حزبا كبيرا في ع...</td>\n",
       "      <td>a161414-في-كافّة-الولايات---عصابة-تورط-حزبا-كب...</td>\n",
       "      <td>24 فيفري 2020</td>\n",
       "    </tr>\n",
       "    <tr>\n",
       "      <th>1</th>\n",
       "      <td>تجار ومواطنون يغلقون الطريق المؤدية الى معبر ح...</td>\n",
       "      <td>a161411-تجار-ومواطنون-يغلقون-الطريق-المؤدية-ال...</td>\n",
       "      <td>24 فيفري 2020</td>\n",
       "    </tr>\n",
       "    <tr>\n",
       "      <th>2</th>\n",
       "      <td>بنزرت : الإطاحة بعصابة نفذت عملية سطو على منزل</td>\n",
       "      <td>a161399-بنزرت---الإطاحة-بعصابة-نفذت-عملية-سطو-...</td>\n",
       "      <td>24 فيفري 2020</td>\n",
       "    </tr>\n",
       "    <tr>\n",
       "      <th>3</th>\n",
       "      <td>في الوردية : يهدد العاملات بسكين ثم يسلبهن</td>\n",
       "      <td>a161396-في-الوردية---يهدد-العاملات-بسكين-ثم-يس...</td>\n",
       "      <td>24 فيفري 2020</td>\n",
       "    </tr>\n",
       "    <tr>\n",
       "      <th>4</th>\n",
       "      <td>الإعدام شنقا في حق مغتصب وقاتل طفلة الـ7 سنوات...</td>\n",
       "      <td>a161395-الإعدام-شنقا-في-حق-مغتصب-وقاتل-طفلة-ال...</td>\n",
       "      <td>24 فيفري 2020</td>\n",
       "    </tr>\n",
       "  </tbody>\n",
       "</table>\n",
       "</div>"
      ],
      "text/plain": [
       "                                               title  \\\n",
       "0  في كافّة الولايات : عصابة تورط حزبا كبيرا في ع...   \n",
       "1  تجار ومواطنون يغلقون الطريق المؤدية الى معبر ح...   \n",
       "2    بنزرت : الإطاحة بعصابة نفذت عملية سطو على منزل    \n",
       "3        في الوردية : يهدد العاملات بسكين ثم يسلبهن    \n",
       "4  الإعدام شنقا في حق مغتصب وقاتل طفلة الـ7 سنوات...   \n",
       "\n",
       "                                           hyperlink           date  \n",
       "0  a161414-في-كافّة-الولايات---عصابة-تورط-حزبا-كب...  24 فيفري 2020  \n",
       "1  a161411-تجار-ومواطنون-يغلقون-الطريق-المؤدية-ال...  24 فيفري 2020  \n",
       "2  a161399-بنزرت---الإطاحة-بعصابة-نفذت-عملية-سطو-...  24 فيفري 2020  \n",
       "3  a161396-في-الوردية---يهدد-العاملات-بسكين-ثم-يس...  24 فيفري 2020  \n",
       "4  a161395-الإعدام-شنقا-في-حق-مغتصب-وقاتل-طفلة-ال...  24 فيفري 2020  "
      ]
     },
     "execution_count": 11,
     "metadata": {},
     "output_type": "execute_result"
    }
   ],
   "source": [
    "meta_data_df_new.head()"
   ]
  },
  {
   "cell_type": "markdown",
   "metadata": {},
   "source": [
    "### cleanup hyperlink field\n",
    "convert from relative to absolute url"
   ]
  },
  {
   "cell_type": "code",
   "execution_count": 12,
   "metadata": {},
   "outputs": [
    {
     "data": {
      "text/plain": [
       "(7484, 3)"
      ]
     },
     "execution_count": 12,
     "metadata": {},
     "output_type": "execute_result"
    }
   ],
   "source": [
    "## remove duplicate urls\n",
    "\n",
    "meta_data_df_new.drop_duplicates(subset='hyperlink',inplace=True)\n",
    "meta_data_df_new.shape"
   ]
  },
  {
   "cell_type": "code",
   "execution_count": 14,
   "metadata": {},
   "outputs": [],
   "source": [
    "BASE_URL0 = 'https://www.assarih.com/'"
   ]
  },
  {
   "cell_type": "code",
   "execution_count": 15,
   "metadata": {},
   "outputs": [
    {
     "data": {
      "text/html": [
       "<div>\n",
       "<style scoped>\n",
       "    .dataframe tbody tr th:only-of-type {\n",
       "        vertical-align: middle;\n",
       "    }\n",
       "\n",
       "    .dataframe tbody tr th {\n",
       "        vertical-align: top;\n",
       "    }\n",
       "\n",
       "    .dataframe thead th {\n",
       "        text-align: right;\n",
       "    }\n",
       "</style>\n",
       "<table border=\"1\" class=\"dataframe\">\n",
       "  <thead>\n",
       "    <tr style=\"text-align: right;\">\n",
       "      <th></th>\n",
       "      <th>title</th>\n",
       "      <th>hyperlink</th>\n",
       "      <th>date</th>\n",
       "    </tr>\n",
       "  </thead>\n",
       "  <tbody>\n",
       "    <tr>\n",
       "      <th>0</th>\n",
       "      <td>في كافّة الولايات : عصابة تورط حزبا كبيرا في ع...</td>\n",
       "      <td>https://www.assarih.com/a161414-في-كافّة-الولا...</td>\n",
       "      <td>24 فيفري 2020</td>\n",
       "    </tr>\n",
       "    <tr>\n",
       "      <th>1</th>\n",
       "      <td>تجار ومواطنون يغلقون الطريق المؤدية الى معبر ح...</td>\n",
       "      <td>https://www.assarih.com/a161411-تجار-ومواطنون-...</td>\n",
       "      <td>24 فيفري 2020</td>\n",
       "    </tr>\n",
       "    <tr>\n",
       "      <th>2</th>\n",
       "      <td>بنزرت : الإطاحة بعصابة نفذت عملية سطو على منزل</td>\n",
       "      <td>https://www.assarih.com/a161399-بنزرت---الإطاح...</td>\n",
       "      <td>24 فيفري 2020</td>\n",
       "    </tr>\n",
       "    <tr>\n",
       "      <th>3</th>\n",
       "      <td>في الوردية : يهدد العاملات بسكين ثم يسلبهن</td>\n",
       "      <td>https://www.assarih.com/a161396-في-الوردية---ي...</td>\n",
       "      <td>24 فيفري 2020</td>\n",
       "    </tr>\n",
       "    <tr>\n",
       "      <th>4</th>\n",
       "      <td>الإعدام شنقا في حق مغتصب وقاتل طفلة الـ7 سنوات...</td>\n",
       "      <td>https://www.assarih.com/a161395-الإعدام-شنقا-ف...</td>\n",
       "      <td>24 فيفري 2020</td>\n",
       "    </tr>\n",
       "  </tbody>\n",
       "</table>\n",
       "</div>"
      ],
      "text/plain": [
       "                                               title  \\\n",
       "0  في كافّة الولايات : عصابة تورط حزبا كبيرا في ع...   \n",
       "1  تجار ومواطنون يغلقون الطريق المؤدية الى معبر ح...   \n",
       "2    بنزرت : الإطاحة بعصابة نفذت عملية سطو على منزل    \n",
       "3        في الوردية : يهدد العاملات بسكين ثم يسلبهن    \n",
       "4  الإعدام شنقا في حق مغتصب وقاتل طفلة الـ7 سنوات...   \n",
       "\n",
       "                                           hyperlink           date  \n",
       "0  https://www.assarih.com/a161414-في-كافّة-الولا...  24 فيفري 2020  \n",
       "1  https://www.assarih.com/a161411-تجار-ومواطنون-...  24 فيفري 2020  \n",
       "2  https://www.assarih.com/a161399-بنزرت---الإطاح...  24 فيفري 2020  \n",
       "3  https://www.assarih.com/a161396-في-الوردية---ي...  24 فيفري 2020  \n",
       "4  https://www.assarih.com/a161395-الإعدام-شنقا-ف...  24 فيفري 2020  "
      ]
     },
     "execution_count": 15,
     "metadata": {},
     "output_type": "execute_result"
    }
   ],
   "source": [
    "## convert to absolute url\n",
    "\n",
    "meta_data_df_new['hyperlink'] = meta_data_df_new.hyperlink.map(lambda url: BASE_URL0+url)\n",
    "meta_data_df_new.head()"
   ]
  },
  {
   "cell_type": "code",
   "execution_count": 16,
   "metadata": {},
   "outputs": [
    {
     "data": {
      "text/html": [
       "<div>\n",
       "<style scoped>\n",
       "    .dataframe tbody tr th:only-of-type {\n",
       "        vertical-align: middle;\n",
       "    }\n",
       "\n",
       "    .dataframe tbody tr th {\n",
       "        vertical-align: top;\n",
       "    }\n",
       "\n",
       "    .dataframe thead th {\n",
       "        text-align: right;\n",
       "    }\n",
       "</style>\n",
       "<table border=\"1\" class=\"dataframe\">\n",
       "  <thead>\n",
       "    <tr style=\"text-align: right;\">\n",
       "      <th></th>\n",
       "      <th>title</th>\n",
       "      <th>hyperlink</th>\n",
       "      <th>date</th>\n",
       "    </tr>\n",
       "  </thead>\n",
       "  <tbody>\n",
       "    <tr>\n",
       "      <th>7480</th>\n",
       "      <td>أليم في صفاقس: ارتفاع عدد التلاميذ ضحايا اغتص...</td>\n",
       "      <td>https://www.assarih.com/a129258--أليم-في-صفاقس...</td>\n",
       "      <td>09 مارس 2019</td>\n",
       "    </tr>\n",
       "    <tr>\n",
       "      <th>7481</th>\n",
       "      <td>عوسجة (بنزرت): إيقاف «جزّار» تعمد ذبح بقرة مر...</td>\n",
       "      <td>https://www.assarih.com/a129256--عوسجة--بنزرت-...</td>\n",
       "      <td>09 مارس 2019</td>\n",
       "    </tr>\n",
       "    <tr>\n",
       "      <th>7482</th>\n",
       "      <td>داهمت السلطات الالمانية منزله بكولونيا: التو...</td>\n",
       "      <td>https://www.assarih.com/a129255---داهمت-السلطا...</td>\n",
       "      <td>09 مارس 2019</td>\n",
       "    </tr>\n",
       "    <tr>\n",
       "      <th>7483</th>\n",
       "      <td>خاص/  في قفصة: غرس سكينا في رأس غريمه اثر جلسة...</td>\n",
       "      <td>https://www.assarih.com/a129254-خاص---في-قفصة-...</td>\n",
       "      <td>09 مارس 2019</td>\n",
       "    </tr>\n",
       "    <tr>\n",
       "      <th>7484</th>\n",
       "      <td>فجر اليوم بالقيروان : طلق ناري استهدف فلاحا من...</td>\n",
       "      <td>https://www.assarih.com/a129250-فجر-اليوم-بالق...</td>\n",
       "      <td>09 مارس 2019</td>\n",
       "    </tr>\n",
       "  </tbody>\n",
       "</table>\n",
       "</div>"
      ],
      "text/plain": [
       "                                                  title  \\\n",
       "7480   أليم في صفاقس: ارتفاع عدد التلاميذ ضحايا اغتص...   \n",
       "7481   عوسجة (بنزرت): إيقاف «جزّار» تعمد ذبح بقرة مر...   \n",
       "7482    داهمت السلطات الالمانية منزله بكولونيا: التو...   \n",
       "7483  خاص/  في قفصة: غرس سكينا في رأس غريمه اثر جلسة...   \n",
       "7484  فجر اليوم بالقيروان : طلق ناري استهدف فلاحا من...   \n",
       "\n",
       "                                              hyperlink          date  \n",
       "7480  https://www.assarih.com/a129258--أليم-في-صفاقس...  09 مارس 2019  \n",
       "7481  https://www.assarih.com/a129256--عوسجة--بنزرت-...  09 مارس 2019  \n",
       "7482  https://www.assarih.com/a129255---داهمت-السلطا...  09 مارس 2019  \n",
       "7483  https://www.assarih.com/a129254-خاص---في-قفصة-...  09 مارس 2019  \n",
       "7484  https://www.assarih.com/a129250-فجر-اليوم-بالق...  09 مارس 2019  "
      ]
     },
     "execution_count": 16,
     "metadata": {},
     "output_type": "execute_result"
    }
   ],
   "source": [
    "meta_data_df_new.tail()"
   ]
  },
  {
   "cell_type": "markdown",
   "metadata": {},
   "source": [
    "### parse date field"
   ]
  },
  {
   "cell_type": "code",
   "execution_count": 17,
   "metadata": {},
   "outputs": [],
   "source": [
    "import dateparser"
   ]
  },
  {
   "cell_type": "markdown",
   "metadata": {},
   "source": [
    "**Scratch Pad**"
   ]
  },
  {
   "cell_type": "code",
   "execution_count": 18,
   "metadata": {},
   "outputs": [
    {
     "data": {
      "text/plain": [
       "datetime.datetime(2012, 12, 12, 0, 0)"
      ]
     },
     "execution_count": 18,
     "metadata": {},
     "output_type": "execute_result"
    }
   ],
   "source": [
    "dateparser.parse('12/12/12')"
   ]
  },
  {
   "cell_type": "code",
   "execution_count": 19,
   "metadata": {},
   "outputs": [
    {
     "data": {
      "text/plain": [
       "datetime.datetime(2015, 8, 15, 13, 8)"
      ]
     },
     "execution_count": 19,
     "metadata": {},
     "output_type": "execute_result"
    }
   ],
   "source": [
    "dateparser.parse('2015, Ago 15, 1:08 pm', languages=['pt', 'es'])"
   ]
  },
  {
   "cell_type": "code",
   "execution_count": 20,
   "metadata": {},
   "outputs": [
    {
     "name": "stdout",
     "output_type": "stream",
     "text": [
      "09 مارس 2019\n"
     ]
    },
    {
     "data": {
      "text/plain": [
       "datetime.datetime"
      ]
     },
     "execution_count": 20,
     "metadata": {},
     "output_type": "execute_result"
    }
   ],
   "source": [
    "x = meta_data_df_new.date.iloc[-1]\n",
    "print(x)\n",
    "y = dateparser.parse(x)\n",
    "type(y)"
   ]
  },
  {
   "cell_type": "code",
   "execution_count": 21,
   "metadata": {},
   "outputs": [
    {
     "data": {
      "text/plain": [
       "datetime.datetime(2019, 3, 9, 0, 0)"
      ]
     },
     "execution_count": 21,
     "metadata": {},
     "output_type": "execute_result"
    }
   ],
   "source": [
    "y"
   ]
  },
  {
   "cell_type": "code",
   "execution_count": 22,
   "metadata": {},
   "outputs": [
    {
     "data": {
      "text/plain": [
       "(3, 9)"
      ]
     },
     "execution_count": 22,
     "metadata": {},
     "output_type": "execute_result"
    }
   ],
   "source": [
    "y.month,y.day"
   ]
  },
  {
   "cell_type": "code",
   "execution_count": 23,
   "metadata": {},
   "outputs": [
    {
     "data": {
      "text/plain": [
       "Timestamp('2019-03-09 00:00:00')"
      ]
     },
     "execution_count": 23,
     "metadata": {},
     "output_type": "execute_result"
    }
   ],
   "source": [
    "pd.to_datetime(y)"
   ]
  },
  {
   "cell_type": "code",
   "execution_count": 24,
   "metadata": {},
   "outputs": [
    {
     "name": "stdout",
     "output_type": "stream",
     "text": [
      "29 أفريل 2019\n"
     ]
    },
    {
     "data": {
      "text/plain": [
       "True"
      ]
     },
     "execution_count": 24,
     "metadata": {},
     "output_type": "execute_result"
    }
   ],
   "source": [
    "x = meta_data_df_new.date.iloc[-1000]\n",
    "print(x)\n",
    "y = dateparser.parse(x,languages=['ar'])\n",
    "y==None"
   ]
  },
  {
   "cell_type": "markdown",
   "metadata": {},
   "source": [
    "**End Scratch Pad**"
   ]
  },
  {
   "cell_type": "markdown",
   "metadata": {},
   "source": [
    "Remark about method using the `dateparser` library :\n",
    "- This method failed for many dates and produced None values; for example '29 أفريل 2019'. Some dates were parsed correctly such as '09 مارس 2019'.\n",
    "- Apparently this is because some month names were not recognized by the dateparser library.\n",
    "- In fact, month names used in Tunisia --and North Africa-- are Arabic transliterations of French month names, a legacy of French colonialism.\n",
    "- Most likely the `dateparser` library uses month names used in Arab countries of the Levant and Gulf regions ..."
   ]
  },
  {
   "cell_type": "code",
   "execution_count": 25,
   "metadata": {},
   "outputs": [],
   "source": [
    "## First method: using the dateparser library\n",
    "## took a long while to run (several minutes)\n",
    "\n",
    "# %time meta_data_df_new['date_dt'] = meta_data_df_new.date.map(dateparser.parse)"
   ]
  },
  {
   "cell_type": "code",
   "execution_count": null,
   "metadata": {},
   "outputs": [],
   "source": [
    "## therefore I decided to write my own date parsing method, combined with Pandas's to_datetime method.\n",
    "\n",
    "tunisian_month_to_number_dict = {'جانفي':1,\n",
    " 'ديسمبر':12,\n",
    " 'أكتوبر':10,\n",
    " 'نوفمبر':11,\n",
    " 'أوت':8,\n",
    " 'ماي':5,\n",
    " 'جويلية':7,\n",
    " 'سبتمبر':9,\n",
    " 'فيفري':2,\n",
    " 'جوان':6,\n",
    " 'أفريل':4,\n",
    " 'مارس':3}\n",
    "\n",
    "df1 = meta_data_df_new.date.str.findall('(\\d{1,2})(.*)(20\\d\\d)').map(lambda x: x[0])\n",
    "df2 = pd.DataFrame(df1.tolist(),columns=['day','month','year'])\n",
    "df2['month_nb'] = df2.month.str.strip().map(tunisian_month_to_number_dict)"
   ]
  },
  {
   "cell_type": "code",
   "execution_count": 46,
   "metadata": {},
   "outputs": [
    {
     "data": {
      "text/html": [
       "<div>\n",
       "<style scoped>\n",
       "    .dataframe tbody tr th:only-of-type {\n",
       "        vertical-align: middle;\n",
       "    }\n",
       "\n",
       "    .dataframe tbody tr th {\n",
       "        vertical-align: top;\n",
       "    }\n",
       "\n",
       "    .dataframe thead th {\n",
       "        text-align: right;\n",
       "    }\n",
       "</style>\n",
       "<table border=\"1\" class=\"dataframe\">\n",
       "  <thead>\n",
       "    <tr style=\"text-align: right;\">\n",
       "      <th></th>\n",
       "      <th>day</th>\n",
       "      <th>month</th>\n",
       "      <th>year</th>\n",
       "      <th>month_nb</th>\n",
       "      <th>date_dt</th>\n",
       "    </tr>\n",
       "  </thead>\n",
       "  <tbody>\n",
       "    <tr>\n",
       "      <th>7480</th>\n",
       "      <td>09</td>\n",
       "      <td>مارس</td>\n",
       "      <td>2019</td>\n",
       "      <td>3</td>\n",
       "      <td>2019-03-09</td>\n",
       "    </tr>\n",
       "    <tr>\n",
       "      <th>7481</th>\n",
       "      <td>09</td>\n",
       "      <td>مارس</td>\n",
       "      <td>2019</td>\n",
       "      <td>3</td>\n",
       "      <td>2019-03-09</td>\n",
       "    </tr>\n",
       "    <tr>\n",
       "      <th>7482</th>\n",
       "      <td>09</td>\n",
       "      <td>مارس</td>\n",
       "      <td>2019</td>\n",
       "      <td>3</td>\n",
       "      <td>2019-03-09</td>\n",
       "    </tr>\n",
       "    <tr>\n",
       "      <th>7483</th>\n",
       "      <td>09</td>\n",
       "      <td>مارس</td>\n",
       "      <td>2019</td>\n",
       "      <td>3</td>\n",
       "      <td>2019-03-09</td>\n",
       "    </tr>\n",
       "    <tr>\n",
       "      <th>7484</th>\n",
       "      <td>09</td>\n",
       "      <td>مارس</td>\n",
       "      <td>2019</td>\n",
       "      <td>3</td>\n",
       "      <td>2019-03-09</td>\n",
       "    </tr>\n",
       "  </tbody>\n",
       "</table>\n",
       "</div>"
      ],
      "text/plain": [
       "     day   month  year  month_nb    date_dt\n",
       "7480  09   مارس   2019         3 2019-03-09\n",
       "7481  09   مارس   2019         3 2019-03-09\n",
       "7482  09   مارس   2019         3 2019-03-09\n",
       "7483  09   مارس   2019         3 2019-03-09\n",
       "7484  09   مارس   2019         3 2019-03-09"
      ]
     },
     "execution_count": 46,
     "metadata": {},
     "output_type": "execute_result"
    }
   ],
   "source": [
    "df2['date_dt'] = df2.apply(lambda row: pd.to_datetime(' '.join([str(row.month_nb),row.day,row.year])), axis=1)\n",
    "df2.set_index(meta_data_df_new.index,inplace=True)\n",
    "df2.tail()"
   ]
  },
  {
   "cell_type": "code",
   "execution_count": 47,
   "metadata": {},
   "outputs": [
    {
     "data": {
      "text/html": [
       "<div>\n",
       "<style scoped>\n",
       "    .dataframe tbody tr th:only-of-type {\n",
       "        vertical-align: middle;\n",
       "    }\n",
       "\n",
       "    .dataframe tbody tr th {\n",
       "        vertical-align: top;\n",
       "    }\n",
       "\n",
       "    .dataframe thead th {\n",
       "        text-align: right;\n",
       "    }\n",
       "</style>\n",
       "<table border=\"1\" class=\"dataframe\">\n",
       "  <thead>\n",
       "    <tr style=\"text-align: right;\">\n",
       "      <th></th>\n",
       "      <th>title</th>\n",
       "      <th>hyperlink</th>\n",
       "      <th>date</th>\n",
       "      <th>date_dt</th>\n",
       "    </tr>\n",
       "  </thead>\n",
       "  <tbody>\n",
       "    <tr>\n",
       "      <th>0</th>\n",
       "      <td>في كافّة الولايات : عصابة تورط حزبا كبيرا في ع...</td>\n",
       "      <td>https://www.assarih.com/a161414-في-كافّة-الولا...</td>\n",
       "      <td>24 فيفري 2020</td>\n",
       "      <td>2020-02-24</td>\n",
       "    </tr>\n",
       "    <tr>\n",
       "      <th>1</th>\n",
       "      <td>تجار ومواطنون يغلقون الطريق المؤدية الى معبر ح...</td>\n",
       "      <td>https://www.assarih.com/a161411-تجار-ومواطنون-...</td>\n",
       "      <td>24 فيفري 2020</td>\n",
       "      <td>2020-02-24</td>\n",
       "    </tr>\n",
       "    <tr>\n",
       "      <th>2</th>\n",
       "      <td>بنزرت : الإطاحة بعصابة نفذت عملية سطو على منزل</td>\n",
       "      <td>https://www.assarih.com/a161399-بنزرت---الإطاح...</td>\n",
       "      <td>24 فيفري 2020</td>\n",
       "      <td>2020-02-24</td>\n",
       "    </tr>\n",
       "    <tr>\n",
       "      <th>3</th>\n",
       "      <td>في الوردية : يهدد العاملات بسكين ثم يسلبهن</td>\n",
       "      <td>https://www.assarih.com/a161396-في-الوردية---ي...</td>\n",
       "      <td>24 فيفري 2020</td>\n",
       "      <td>2020-02-24</td>\n",
       "    </tr>\n",
       "    <tr>\n",
       "      <th>4</th>\n",
       "      <td>الإعدام شنقا في حق مغتصب وقاتل طفلة الـ7 سنوات...</td>\n",
       "      <td>https://www.assarih.com/a161395-الإعدام-شنقا-ف...</td>\n",
       "      <td>24 فيفري 2020</td>\n",
       "      <td>2020-02-24</td>\n",
       "    </tr>\n",
       "  </tbody>\n",
       "</table>\n",
       "</div>"
      ],
      "text/plain": [
       "                                               title  \\\n",
       "0  في كافّة الولايات : عصابة تورط حزبا كبيرا في ع...   \n",
       "1  تجار ومواطنون يغلقون الطريق المؤدية الى معبر ح...   \n",
       "2    بنزرت : الإطاحة بعصابة نفذت عملية سطو على منزل    \n",
       "3        في الوردية : يهدد العاملات بسكين ثم يسلبهن    \n",
       "4  الإعدام شنقا في حق مغتصب وقاتل طفلة الـ7 سنوات...   \n",
       "\n",
       "                                           hyperlink           date    date_dt  \n",
       "0  https://www.assarih.com/a161414-في-كافّة-الولا...  24 فيفري 2020 2020-02-24  \n",
       "1  https://www.assarih.com/a161411-تجار-ومواطنون-...  24 فيفري 2020 2020-02-24  \n",
       "2  https://www.assarih.com/a161399-بنزرت---الإطاح...  24 فيفري 2020 2020-02-24  \n",
       "3  https://www.assarih.com/a161396-في-الوردية---ي...  24 فيفري 2020 2020-02-24  \n",
       "4  https://www.assarih.com/a161395-الإعدام-شنقا-ف...  24 فيفري 2020 2020-02-24  "
      ]
     },
     "execution_count": 47,
     "metadata": {},
     "output_type": "execute_result"
    }
   ],
   "source": [
    "meta_data_df_new['date_dt'] = df2['date_dt']\n",
    "meta_data_df_new.head()"
   ]
  },
  {
   "cell_type": "code",
   "execution_count": 48,
   "metadata": {
    "scrolled": true
   },
   "outputs": [
    {
     "data": {
      "text/html": [
       "<div>\n",
       "<style scoped>\n",
       "    .dataframe tbody tr th:only-of-type {\n",
       "        vertical-align: middle;\n",
       "    }\n",
       "\n",
       "    .dataframe tbody tr th {\n",
       "        vertical-align: top;\n",
       "    }\n",
       "\n",
       "    .dataframe thead th {\n",
       "        text-align: right;\n",
       "    }\n",
       "</style>\n",
       "<table border=\"1\" class=\"dataframe\">\n",
       "  <thead>\n",
       "    <tr style=\"text-align: right;\">\n",
       "      <th></th>\n",
       "      <th>title</th>\n",
       "      <th>hyperlink</th>\n",
       "      <th>date</th>\n",
       "      <th>date_dt</th>\n",
       "    </tr>\n",
       "  </thead>\n",
       "  <tbody>\n",
       "    <tr>\n",
       "      <th>7480</th>\n",
       "      <td>أليم في صفاقس: ارتفاع عدد التلاميذ ضحايا اغتص...</td>\n",
       "      <td>https://www.assarih.com/a129258--أليم-في-صفاقس...</td>\n",
       "      <td>09 مارس 2019</td>\n",
       "      <td>2019-03-09</td>\n",
       "    </tr>\n",
       "    <tr>\n",
       "      <th>7481</th>\n",
       "      <td>عوسجة (بنزرت): إيقاف «جزّار» تعمد ذبح بقرة مر...</td>\n",
       "      <td>https://www.assarih.com/a129256--عوسجة--بنزرت-...</td>\n",
       "      <td>09 مارس 2019</td>\n",
       "      <td>2019-03-09</td>\n",
       "    </tr>\n",
       "    <tr>\n",
       "      <th>7482</th>\n",
       "      <td>داهمت السلطات الالمانية منزله بكولونيا: التو...</td>\n",
       "      <td>https://www.assarih.com/a129255---داهمت-السلطا...</td>\n",
       "      <td>09 مارس 2019</td>\n",
       "      <td>2019-03-09</td>\n",
       "    </tr>\n",
       "    <tr>\n",
       "      <th>7483</th>\n",
       "      <td>خاص/  في قفصة: غرس سكينا في رأس غريمه اثر جلسة...</td>\n",
       "      <td>https://www.assarih.com/a129254-خاص---في-قفصة-...</td>\n",
       "      <td>09 مارس 2019</td>\n",
       "      <td>2019-03-09</td>\n",
       "    </tr>\n",
       "    <tr>\n",
       "      <th>7484</th>\n",
       "      <td>فجر اليوم بالقيروان : طلق ناري استهدف فلاحا من...</td>\n",
       "      <td>https://www.assarih.com/a129250-فجر-اليوم-بالق...</td>\n",
       "      <td>09 مارس 2019</td>\n",
       "      <td>2019-03-09</td>\n",
       "    </tr>\n",
       "  </tbody>\n",
       "</table>\n",
       "</div>"
      ],
      "text/plain": [
       "                                                  title  \\\n",
       "7480   أليم في صفاقس: ارتفاع عدد التلاميذ ضحايا اغتص...   \n",
       "7481   عوسجة (بنزرت): إيقاف «جزّار» تعمد ذبح بقرة مر...   \n",
       "7482    داهمت السلطات الالمانية منزله بكولونيا: التو...   \n",
       "7483  خاص/  في قفصة: غرس سكينا في رأس غريمه اثر جلسة...   \n",
       "7484  فجر اليوم بالقيروان : طلق ناري استهدف فلاحا من...   \n",
       "\n",
       "                                              hyperlink          date  \\\n",
       "7480  https://www.assarih.com/a129258--أليم-في-صفاقس...  09 مارس 2019   \n",
       "7481  https://www.assarih.com/a129256--عوسجة--بنزرت-...  09 مارس 2019   \n",
       "7482  https://www.assarih.com/a129255---داهمت-السلطا...  09 مارس 2019   \n",
       "7483  https://www.assarih.com/a129254-خاص---في-قفصة-...  09 مارس 2019   \n",
       "7484  https://www.assarih.com/a129250-فجر-اليوم-بالق...  09 مارس 2019   \n",
       "\n",
       "        date_dt  \n",
       "7480 2019-03-09  \n",
       "7481 2019-03-09  \n",
       "7482 2019-03-09  \n",
       "7483 2019-03-09  \n",
       "7484 2019-03-09  "
      ]
     },
     "execution_count": 48,
     "metadata": {},
     "output_type": "execute_result"
    }
   ],
   "source": [
    "meta_data_df_new.tail()"
   ]
  },
  {
   "cell_type": "code",
   "execution_count": 49,
   "metadata": {},
   "outputs": [
    {
     "data": {
      "text/plain": [
       "7480    3\n",
       "7481    3\n",
       "7482    3\n",
       "7483    3\n",
       "7484    3\n",
       "Name: date_dt, dtype: int64"
      ]
     },
     "execution_count": 49,
     "metadata": {},
     "output_type": "execute_result"
    }
   ],
   "source": [
    "## double-check that the month and day were not swapped somehow\n",
    "\n",
    "meta_data_df_new.date_dt.tail().map(lambda x: x.month)"
   ]
  },
  {
   "cell_type": "code",
   "execution_count": 50,
   "metadata": {},
   "outputs": [
    {
     "data": {
      "text/plain": [
       "title                object\n",
       "hyperlink            object\n",
       "date                 object\n",
       "date_dt      datetime64[ns]\n",
       "dtype: object"
      ]
     },
     "execution_count": 50,
     "metadata": {},
     "output_type": "execute_result"
    }
   ],
   "source": [
    "meta_data_df_new.dtypes"
   ]
  },
  {
   "cell_type": "markdown",
   "metadata": {},
   "source": [
    "****"
   ]
  },
  {
   "cell_type": "markdown",
   "metadata": {},
   "source": [
    "## Download text content from harvested articles' urls"
   ]
  },
  {
   "cell_type": "code",
   "execution_count": 51,
   "metadata": {},
   "outputs": [],
   "source": [
    "import os.path\n",
    "#from os import path"
   ]
  },
  {
   "cell_type": "code",
   "execution_count": 52,
   "metadata": {},
   "outputs": [],
   "source": [
    "data_folder_path = '../data/'\n",
    "outputfile_base_name = 'www.assarih.com'"
   ]
  },
  {
   "cell_type": "code",
   "execution_count": 53,
   "metadata": {},
   "outputs": [
    {
     "data": {
      "text/plain": [
       "(7484, 4)"
      ]
     },
     "execution_count": 53,
     "metadata": {},
     "output_type": "execute_result"
    }
   ],
   "source": [
    "meta_data_df_new.shape"
   ]
  },
  {
   "cell_type": "code",
   "execution_count": 61,
   "metadata": {},
   "outputs": [
    {
     "name": "stdout",
     "output_type": "stream",
     "text": [
      "0\n",
      "100\n",
      "200\n",
      "300\n",
      "400\n",
      "500\n",
      "600\n",
      "700\n",
      "800\n",
      "900\n",
      "1000\n",
      "1100\n",
      "1200\n",
      "1300\n",
      "1400\n",
      "1500\n",
      "1600\n",
      "1700\n",
      "1800\n",
      "1900\n",
      "2000\n",
      "2100\n",
      "2200\n",
      "2300\n",
      "2400\n",
      "2500\n",
      "2600\n",
      "2700\n",
      "2800\n",
      "2900\n",
      "3000\n",
      "3100\n",
      "3200\n",
      "3300\n",
      "3400\n",
      "3500\n",
      "3600\n",
      "3700\n",
      "3800\n",
      "3900\n",
      "4000\n",
      "4100\n",
      "4200\n",
      "4300\n",
      "4400\n",
      "4500\n",
      "4600\n",
      "4700\n",
      "4800\n",
      "4900\n",
      "5000\n",
      "5100\n",
      "5200\n",
      "5300\n",
      "5400\n",
      "5500\n",
      "5600\n",
      "5700\n",
      "5800\n",
      "5900\n",
      "6000\n",
      "6100\n",
      "6200\n",
      "6300\n",
      "6400\n",
      "6500\n",
      "6600\n",
      "6700\n",
      "6800\n",
      "6900\n",
      "7000\n",
      "7100\n",
      "7200\n",
      "7300\n",
      "7400\n",
      "--- 0.2959282000859578 minutes elapsed ---\n"
     ]
    }
   ],
   "source": [
    "import re\n",
    "import time\n",
    "start_time = time.time()\n",
    "filenames = []\n",
    "\n",
    "for i,x in meta_data_df_new.iterrows():\n",
    "    title,url = x.title,x.hyperlink\n",
    "    # check if record already exists\n",
    "    title_ = re.sub('\\W','_',title[0:70])\n",
    "    filename = outputfile_base_name + \"__\" + title_ + '.txt'\n",
    "    filenames.append(filename)\n",
    "    filename = data_folder_path + filename\n",
    "    if not(os.path.exists(filename)):\n",
    "        # download raw html page then extract text content\n",
    "        html = requests.get(url).content\n",
    "        sel = Selector(text = html)\n",
    "        u = sel.xpath(xpath_content).extract()\n",
    "        v = ' '.join([x.strip() for x in u]).strip()\n",
    "        if len(v)>0:\n",
    "            # write content to a text file\n",
    "            with open(filename, 'w', encoding='utf8') as f:\n",
    "                f.write(url+'\\n')\n",
    "                f.write(v)\n",
    "    if (i%100)==0:\n",
    "        print(i)\n",
    "\n",
    "print(\"--- %s minutes elapsed ---\" % ((time.time() - start_time)/60))"
   ]
  },
  {
   "cell_type": "code",
   "execution_count": 73,
   "metadata": {},
   "outputs": [],
   "source": [
    "assert meta_data_df_new.shape[0]==len(filenames)"
   ]
  },
  {
   "cell_type": "code",
   "execution_count": 74,
   "metadata": {},
   "outputs": [],
   "source": [
    "meta_data_df_new['filename'] = pd.Series(filenames,index=meta_data_df_new.index)"
   ]
  },
  {
   "cell_type": "code",
   "execution_count": 75,
   "metadata": {},
   "outputs": [
    {
     "data": {
      "text/html": [
       "<div>\n",
       "<style scoped>\n",
       "    .dataframe tbody tr th:only-of-type {\n",
       "        vertical-align: middle;\n",
       "    }\n",
       "\n",
       "    .dataframe tbody tr th {\n",
       "        vertical-align: top;\n",
       "    }\n",
       "\n",
       "    .dataframe thead th {\n",
       "        text-align: right;\n",
       "    }\n",
       "</style>\n",
       "<table border=\"1\" class=\"dataframe\">\n",
       "  <thead>\n",
       "    <tr style=\"text-align: right;\">\n",
       "      <th></th>\n",
       "      <th>title</th>\n",
       "      <th>hyperlink</th>\n",
       "      <th>date</th>\n",
       "      <th>date_dt</th>\n",
       "      <th>filename</th>\n",
       "    </tr>\n",
       "  </thead>\n",
       "  <tbody>\n",
       "    <tr>\n",
       "      <th>0</th>\n",
       "      <td>في كافّة الولايات : عصابة تورط حزبا كبيرا في ع...</td>\n",
       "      <td>https://www.assarih.com/a161414-في-كافّة-الولا...</td>\n",
       "      <td>24 فيفري 2020</td>\n",
       "      <td>2020-02-24</td>\n",
       "      <td>www.assarih.com__في_كاف_ة_الولايات___عصابة_تور...</td>\n",
       "    </tr>\n",
       "    <tr>\n",
       "      <th>1</th>\n",
       "      <td>تجار ومواطنون يغلقون الطريق المؤدية الى معبر ح...</td>\n",
       "      <td>https://www.assarih.com/a161411-تجار-ومواطنون-...</td>\n",
       "      <td>24 فيفري 2020</td>\n",
       "      <td>2020-02-24</td>\n",
       "      <td>www.assarih.com__تجار_ومواطنون_يغلقون_الطريق_ا...</td>\n",
       "    </tr>\n",
       "    <tr>\n",
       "      <th>2</th>\n",
       "      <td>بنزرت : الإطاحة بعصابة نفذت عملية سطو على منزل</td>\n",
       "      <td>https://www.assarih.com/a161399-بنزرت---الإطاح...</td>\n",
       "      <td>24 فيفري 2020</td>\n",
       "      <td>2020-02-24</td>\n",
       "      <td>www.assarih.com__بنزرت___الإطاحة_بعصابة_نفذت_ع...</td>\n",
       "    </tr>\n",
       "    <tr>\n",
       "      <th>3</th>\n",
       "      <td>في الوردية : يهدد العاملات بسكين ثم يسلبهن</td>\n",
       "      <td>https://www.assarih.com/a161396-في-الوردية---ي...</td>\n",
       "      <td>24 فيفري 2020</td>\n",
       "      <td>2020-02-24</td>\n",
       "      <td>www.assarih.com__في_الوردية___يهدد_العاملات_بس...</td>\n",
       "    </tr>\n",
       "    <tr>\n",
       "      <th>4</th>\n",
       "      <td>الإعدام شنقا في حق مغتصب وقاتل طفلة الـ7 سنوات...</td>\n",
       "      <td>https://www.assarih.com/a161395-الإعدام-شنقا-ف...</td>\n",
       "      <td>24 فيفري 2020</td>\n",
       "      <td>2020-02-24</td>\n",
       "      <td>www.assarih.com__الإعدام_شنقا_في_حق_مغتصب_وقات...</td>\n",
       "    </tr>\n",
       "  </tbody>\n",
       "</table>\n",
       "</div>"
      ],
      "text/plain": [
       "                                               title  \\\n",
       "0  في كافّة الولايات : عصابة تورط حزبا كبيرا في ع...   \n",
       "1  تجار ومواطنون يغلقون الطريق المؤدية الى معبر ح...   \n",
       "2    بنزرت : الإطاحة بعصابة نفذت عملية سطو على منزل    \n",
       "3        في الوردية : يهدد العاملات بسكين ثم يسلبهن    \n",
       "4  الإعدام شنقا في حق مغتصب وقاتل طفلة الـ7 سنوات...   \n",
       "\n",
       "                                           hyperlink           date  \\\n",
       "0  https://www.assarih.com/a161414-في-كافّة-الولا...  24 فيفري 2020   \n",
       "1  https://www.assarih.com/a161411-تجار-ومواطنون-...  24 فيفري 2020   \n",
       "2  https://www.assarih.com/a161399-بنزرت---الإطاح...  24 فيفري 2020   \n",
       "3  https://www.assarih.com/a161396-في-الوردية---ي...  24 فيفري 2020   \n",
       "4  https://www.assarih.com/a161395-الإعدام-شنقا-ف...  24 فيفري 2020   \n",
       "\n",
       "     date_dt                                           filename  \n",
       "0 2020-02-24  www.assarih.com__في_كاف_ة_الولايات___عصابة_تور...  \n",
       "1 2020-02-24  www.assarih.com__تجار_ومواطنون_يغلقون_الطريق_ا...  \n",
       "2 2020-02-24  www.assarih.com__بنزرت___الإطاحة_بعصابة_نفذت_ع...  \n",
       "3 2020-02-24  www.assarih.com__في_الوردية___يهدد_العاملات_بس...  \n",
       "4 2020-02-24  www.assarih.com__الإعدام_شنقا_في_حق_مغتصب_وقات...  "
      ]
     },
     "execution_count": 75,
     "metadata": {},
     "output_type": "execute_result"
    }
   ],
   "source": [
    "meta_data_df_new.head()"
   ]
  },
  {
   "cell_type": "code",
   "execution_count": 76,
   "metadata": {},
   "outputs": [
    {
     "data": {
      "text/html": [
       "<div>\n",
       "<style scoped>\n",
       "    .dataframe tbody tr th:only-of-type {\n",
       "        vertical-align: middle;\n",
       "    }\n",
       "\n",
       "    .dataframe tbody tr th {\n",
       "        vertical-align: top;\n",
       "    }\n",
       "\n",
       "    .dataframe thead th {\n",
       "        text-align: right;\n",
       "    }\n",
       "</style>\n",
       "<table border=\"1\" class=\"dataframe\">\n",
       "  <thead>\n",
       "    <tr style=\"text-align: right;\">\n",
       "      <th></th>\n",
       "      <th>title</th>\n",
       "      <th>hyperlink</th>\n",
       "      <th>date</th>\n",
       "      <th>date_dt</th>\n",
       "      <th>filename</th>\n",
       "    </tr>\n",
       "  </thead>\n",
       "  <tbody>\n",
       "    <tr>\n",
       "      <th>7480</th>\n",
       "      <td>أليم في صفاقس: ارتفاع عدد التلاميذ ضحايا اغتص...</td>\n",
       "      <td>https://www.assarih.com/a129258--أليم-في-صفاقس...</td>\n",
       "      <td>09 مارس 2019</td>\n",
       "      <td>2019-03-09</td>\n",
       "      <td>www.assarih.com___أليم_في_صفاقس__ارتفاع_عدد_ال...</td>\n",
       "    </tr>\n",
       "    <tr>\n",
       "      <th>7481</th>\n",
       "      <td>عوسجة (بنزرت): إيقاف «جزّار» تعمد ذبح بقرة مر...</td>\n",
       "      <td>https://www.assarih.com/a129256--عوسجة--بنزرت-...</td>\n",
       "      <td>09 مارس 2019</td>\n",
       "      <td>2019-03-09</td>\n",
       "      <td>www.assarih.com___عوسجة__بنزرت___إيقاف__جز_ار_...</td>\n",
       "    </tr>\n",
       "    <tr>\n",
       "      <th>7482</th>\n",
       "      <td>داهمت السلطات الالمانية منزله بكولونيا: التو...</td>\n",
       "      <td>https://www.assarih.com/a129255---داهمت-السلطا...</td>\n",
       "      <td>09 مارس 2019</td>\n",
       "      <td>2019-03-09</td>\n",
       "      <td>www.assarih.com____داهمت_السلطات_الالمانية_منز...</td>\n",
       "    </tr>\n",
       "    <tr>\n",
       "      <th>7483</th>\n",
       "      <td>خاص/  في قفصة: غرس سكينا في رأس غريمه اثر جلسة...</td>\n",
       "      <td>https://www.assarih.com/a129254-خاص---في-قفصة-...</td>\n",
       "      <td>09 مارس 2019</td>\n",
       "      <td>2019-03-09</td>\n",
       "      <td>www.assarih.com__خاص___في_قفصة__غرس_سكينا_في_ر...</td>\n",
       "    </tr>\n",
       "    <tr>\n",
       "      <th>7484</th>\n",
       "      <td>فجر اليوم بالقيروان : طلق ناري استهدف فلاحا من...</td>\n",
       "      <td>https://www.assarih.com/a129250-فجر-اليوم-بالق...</td>\n",
       "      <td>09 مارس 2019</td>\n",
       "      <td>2019-03-09</td>\n",
       "      <td>www.assarih.com__فجر_اليوم_بالقيروان___طلق_نار...</td>\n",
       "    </tr>\n",
       "  </tbody>\n",
       "</table>\n",
       "</div>"
      ],
      "text/plain": [
       "                                                  title  \\\n",
       "7480   أليم في صفاقس: ارتفاع عدد التلاميذ ضحايا اغتص...   \n",
       "7481   عوسجة (بنزرت): إيقاف «جزّار» تعمد ذبح بقرة مر...   \n",
       "7482    داهمت السلطات الالمانية منزله بكولونيا: التو...   \n",
       "7483  خاص/  في قفصة: غرس سكينا في رأس غريمه اثر جلسة...   \n",
       "7484  فجر اليوم بالقيروان : طلق ناري استهدف فلاحا من...   \n",
       "\n",
       "                                              hyperlink          date  \\\n",
       "7480  https://www.assarih.com/a129258--أليم-في-صفاقس...  09 مارس 2019   \n",
       "7481  https://www.assarih.com/a129256--عوسجة--بنزرت-...  09 مارس 2019   \n",
       "7482  https://www.assarih.com/a129255---داهمت-السلطا...  09 مارس 2019   \n",
       "7483  https://www.assarih.com/a129254-خاص---في-قفصة-...  09 مارس 2019   \n",
       "7484  https://www.assarih.com/a129250-فجر-اليوم-بالق...  09 مارس 2019   \n",
       "\n",
       "        date_dt                                           filename  \n",
       "7480 2019-03-09  www.assarih.com___أليم_في_صفاقس__ارتفاع_عدد_ال...  \n",
       "7481 2019-03-09  www.assarih.com___عوسجة__بنزرت___إيقاف__جز_ار_...  \n",
       "7482 2019-03-09  www.assarih.com____داهمت_السلطات_الالمانية_منز...  \n",
       "7483 2019-03-09  www.assarih.com__خاص___في_قفصة__غرس_سكينا_في_ر...  \n",
       "7484 2019-03-09  www.assarih.com__فجر_اليوم_بالقيروان___طلق_نار...  "
      ]
     },
     "execution_count": 76,
     "metadata": {},
     "output_type": "execute_result"
    }
   ],
   "source": [
    "meta_data_df_new.tail()"
   ]
  },
  {
   "cell_type": "markdown",
   "metadata": {},
   "source": [
    "****"
   ]
  },
  {
   "cell_type": "markdown",
   "metadata": {},
   "source": [
    "## Store data frame in pickle file"
   ]
  },
  {
   "cell_type": "code",
   "execution_count": 65,
   "metadata": {},
   "outputs": [],
   "source": [
    "pickle_filepath = '../metadata/articles_meta_data.pickle'\n",
    "csv_filepath = '../metadata/articles_meta_data.csv'"
   ]
  },
  {
   "cell_type": "code",
   "execution_count": 66,
   "metadata": {},
   "outputs": [],
   "source": [
    "import pickle"
   ]
  },
  {
   "cell_type": "code",
   "execution_count": 78,
   "metadata": {},
   "outputs": [
    {
     "name": "stdout",
     "output_type": "stream",
     "text": [
      "(7484, 5) records in updated database.\n"
     ]
    }
   ],
   "source": [
    "if os.path.exists(pickle_filepath):\n",
    "    print(pickle_filepath,'already exists.')\n",
    "    with open(pickle_filepath, 'rb') as f:\n",
    "        meta_data_df_0 = pickle.dump(f)\n",
    "        print(meta_data_df_0.shape,'existing records.')\n",
    "        meta_data_df = pd.concat([meta_data_df_0,meta_data_df_new],axis=0)\n",
    "        # TO DO: remove duplicates\n",
    "else:\n",
    "    meta_data_df = meta_data_df_new\n",
    "\n",
    "print(meta_data_df.shape,'records in updated database.')"
   ]
  },
  {
   "cell_type": "code",
   "execution_count": 79,
   "metadata": {},
   "outputs": [],
   "source": [
    "with open(pickle_filepath, 'wb') as f:\n",
    "    pickle.dump(meta_data_df, f)"
   ]
  },
  {
   "cell_type": "code",
   "execution_count": 80,
   "metadata": {},
   "outputs": [],
   "source": [
    "# meta_data_df.to_csv(csv_filepath,index=True,encoding=\"utf8\")"
   ]
  },
  {
   "cell_type": "code",
   "execution_count": null,
   "metadata": {},
   "outputs": [],
   "source": []
  }
 ],
 "metadata": {
  "kernelspec": {
   "display_name": "Python 3",
   "language": "python",
   "name": "python3"
  },
  "language_info": {
   "codemirror_mode": {
    "name": "ipython",
    "version": 3
   },
   "file_extension": ".py",
   "mimetype": "text/x-python",
   "name": "python",
   "nbconvert_exporter": "python",
   "pygments_lexer": "ipython3",
   "version": "3.7.3"
  },
  "toc": {
   "base_numbering": 1,
   "nav_menu": {},
   "number_sections": true,
   "sideBar": true,
   "skip_h1_title": false,
   "title_cell": "Table of Contents",
   "title_sidebar": "Contents",
   "toc_cell": false,
   "toc_position": {},
   "toc_section_display": true,
   "toc_window_display": false
  }
 },
 "nbformat": 4,
 "nbformat_minor": 2
}
