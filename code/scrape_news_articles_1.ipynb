{
 "cells": [
  {
   "cell_type": "markdown",
   "metadata": {},
   "source": [
    "## Introduction\n",
    "\n",
    "**Objective**\n",
    "\n",
    "This script downloads news articles from the society section of the website of the Tunisian daily newspaper 'Assarih', 'https://www.assarih.com/r4-مجتمع'\n",
    "\n",
    "**Pipeline**\n",
    "\n",
    "1. Harvest list of article urls from web partal's main (front) web page\n",
    "2. Download article web pages of harvested urls (html content)\n",
    "3. Scrape textual content and metadata (date and title) of each downloaded article"
   ]
  },
  {
   "cell_type": "code",
   "execution_count": 8,
   "metadata": {},
   "outputs": [],
   "source": [
    "import pandas as pd\n",
    "import time"
   ]
  },
  {
   "cell_type": "code",
   "execution_count": 4,
   "metadata": {},
   "outputs": [],
   "source": [
    "from scrapy import Selector"
   ]
  },
  {
   "cell_type": "code",
   "execution_count": 5,
   "metadata": {},
   "outputs": [],
   "source": [
    "import requests"
   ]
  },
  {
   "cell_type": "markdown",
   "metadata": {},
   "source": [
    "*****"
   ]
  },
  {
   "cell_type": "markdown",
   "metadata": {},
   "source": [
    "## Harvest article urls from web portal's main page"
   ]
  },
  {
   "cell_type": "code",
   "execution_count": 6,
   "metadata": {},
   "outputs": [],
   "source": [
    "## configuration parameters specific to the Assarih newspaper\n",
    "\n",
    "#BASE_URL = 'https://www.assarih.com/r4-%D9%85%D8%AC%D8%AA%D9%85%D8%B9'   ##ENCODED FORM OF BASE URL\n",
    "BASE_URL = 'https://www.assarih.com/r4-مجتمع'\n",
    "xpath_title = \"//div[@class='article']//div[@class='article-title']/a/text()\"\n",
    "xpath_link = \"//div[@class='article']//div[@class='article-title']/a/@href\"\n",
    "xpath_date = \"//div[@class='article']//div[@class='article-title']/p/text()\"\n",
    "xpath_content = \"//div[@class='last-article']//text()\""
   ]
  },
  {
   "cell_type": "code",
   "execution_count": 9,
   "metadata": {},
   "outputs": [
    {
     "name": "stdout",
     "output_type": "stream",
     "text": [
      "50\n",
      "100\n",
      "150\n",
      "200\n",
      "250\n",
      "300\n",
      "350\n",
      "400\n",
      "450\n",
      "Harvested 7485 urls.\n",
      "--- 5.308672106266021 minutes elapsed ---\n"
     ]
    }
   ],
   "source": [
    "# for each article extract its (hyperlink, title, date)\n",
    "\n",
    "res = []\n",
    "start_time = time.time()\n",
    "\n",
    "for i in range(1,500):\n",
    "    url = BASE_URL+'?page={}'.format(i)\n",
    "    html = requests.get(url).content\n",
    "    sel = Selector(text = html)\n",
    "    u = sel.xpath(xpath_title).extract()\n",
    "    v = sel.xpath(xpath_link).extract()\n",
    "    w = sel.xpath(xpath_date).extract()\n",
    "    z = [y for y in [x.strip() for x in w] if y!='']\n",
    "    if len(u)!=len(v):\n",
    "        print(\"warning: u and v are of different lengths.\")\n",
    "    if len(u)!=len(z):\n",
    "        print(\"warning: u and z are of different lengths.\")\n",
    "    res = res + list(zip(u,v,z))\n",
    "    if (i%50)==0:\n",
    "        print(i)\n",
    "    #print(i,len(u),len(v),len(z))\n",
    "\n",
    "print(f\"Harvested {len(res)} urls.\")\n",
    "print(\"--- %s minutes elapsed ---\" % ((time.time() - start_time)/60))"
   ]
  },
  {
   "cell_type": "markdown",
   "metadata": {},
   "source": [
    "****"
   ]
  },
  {
   "cell_type": "markdown",
   "metadata": {},
   "source": [
    "### Store harvested urls in database"
   ]
  },
  {
   "cell_type": "code",
   "execution_count": 10,
   "metadata": {},
   "outputs": [
    {
     "data": {
      "text/plain": [
       "(7485, 3)"
      ]
     },
     "execution_count": 10,
     "metadata": {},
     "output_type": "execute_result"
    }
   ],
   "source": [
    "data_df_new = pd.DataFrame(res, columns=['title','hyperlink','date'])\n",
    "data_df_new.shape"
   ]
  },
  {
   "cell_type": "code",
   "execution_count": 11,
   "metadata": {},
   "outputs": [
    {
     "data": {
      "text/html": [
       "<div>\n",
       "<style scoped>\n",
       "    .dataframe tbody tr th:only-of-type {\n",
       "        vertical-align: middle;\n",
       "    }\n",
       "\n",
       "    .dataframe tbody tr th {\n",
       "        vertical-align: top;\n",
       "    }\n",
       "\n",
       "    .dataframe thead th {\n",
       "        text-align: right;\n",
       "    }\n",
       "</style>\n",
       "<table border=\"1\" class=\"dataframe\">\n",
       "  <thead>\n",
       "    <tr style=\"text-align: right;\">\n",
       "      <th></th>\n",
       "      <th>title</th>\n",
       "      <th>hyperlink</th>\n",
       "      <th>date</th>\n",
       "    </tr>\n",
       "  </thead>\n",
       "  <tbody>\n",
       "    <tr>\n",
       "      <th>0</th>\n",
       "      <td>جريمة بأطوار غريبة..استيقظ الزوج ليلا فوجد زو...</td>\n",
       "      <td>a161665--جريمة-بأطوار-غريبة..استيقظ-الزوج-ليلا...</td>\n",
       "      <td>26 فيفري 2020</td>\n",
       "    </tr>\n",
       "    <tr>\n",
       "      <th>1</th>\n",
       "      <td>يحدث في تونس : تلميذ يعتدي على زميلته بـ«لام» ...</td>\n",
       "      <td>a161660-يحدث-في-تونس---تلميذ-يعتدي-على-زميلته-...</td>\n",
       "      <td>26 فيفري 2020</td>\n",
       "    </tr>\n",
       "    <tr>\n",
       "      <th>2</th>\n",
       "      <td>حملة أمنية في بنزرت (صور)</td>\n",
       "      <td>a161656-حملة-أمنية-في-بنزرت--صور-</td>\n",
       "      <td>26 فيفري 2020</td>\n",
       "    </tr>\n",
       "    <tr>\n",
       "      <th>3</th>\n",
       "      <td>تزامنا مع التخوفات من \"كورونا\" : وفاة جديدة با...</td>\n",
       "      <td>a161648-تزامنا-مع-التخوفات-من--كورونا----وفاة-...</td>\n",
       "      <td>26 فيفري 2020</td>\n",
       "    </tr>\n",
       "    <tr>\n",
       "      <th>4</th>\n",
       "      <td>تورط في 10 قضايا تحويل وجهة : سفاح النساء بالا...</td>\n",
       "      <td>a161647-تورط-في-10-قضايا-تحويل-وجهة---سفاح-الن...</td>\n",
       "      <td>26 فيفري 2020</td>\n",
       "    </tr>\n",
       "  </tbody>\n",
       "</table>\n",
       "</div>"
      ],
      "text/plain": [
       "                                               title  \\\n",
       "0   جريمة بأطوار غريبة..استيقظ الزوج ليلا فوجد زو...   \n",
       "1  يحدث في تونس : تلميذ يعتدي على زميلته بـ«لام» ...   \n",
       "2                          حملة أمنية في بنزرت (صور)   \n",
       "3  تزامنا مع التخوفات من \"كورونا\" : وفاة جديدة با...   \n",
       "4  تورط في 10 قضايا تحويل وجهة : سفاح النساء بالا...   \n",
       "\n",
       "                                           hyperlink           date  \n",
       "0  a161665--جريمة-بأطوار-غريبة..استيقظ-الزوج-ليلا...  26 فيفري 2020  \n",
       "1  a161660-يحدث-في-تونس---تلميذ-يعتدي-على-زميلته-...  26 فيفري 2020  \n",
       "2                  a161656-حملة-أمنية-في-بنزرت--صور-  26 فيفري 2020  \n",
       "3  a161648-تزامنا-مع-التخوفات-من--كورونا----وفاة-...  26 فيفري 2020  \n",
       "4  a161647-تورط-في-10-قضايا-تحويل-وجهة---سفاح-الن...  26 فيفري 2020  "
      ]
     },
     "execution_count": 11,
     "metadata": {},
     "output_type": "execute_result"
    }
   ],
   "source": [
    "data_df_new.head()"
   ]
  },
  {
   "cell_type": "code",
   "execution_count": 12,
   "metadata": {},
   "outputs": [
    {
     "data": {
      "text/html": [
       "<div>\n",
       "<style scoped>\n",
       "    .dataframe tbody tr th:only-of-type {\n",
       "        vertical-align: middle;\n",
       "    }\n",
       "\n",
       "    .dataframe tbody tr th {\n",
       "        vertical-align: top;\n",
       "    }\n",
       "\n",
       "    .dataframe thead th {\n",
       "        text-align: right;\n",
       "    }\n",
       "</style>\n",
       "<table border=\"1\" class=\"dataframe\">\n",
       "  <thead>\n",
       "    <tr style=\"text-align: right;\">\n",
       "      <th></th>\n",
       "      <th>title</th>\n",
       "      <th>hyperlink</th>\n",
       "      <th>date</th>\n",
       "    </tr>\n",
       "  </thead>\n",
       "  <tbody>\n",
       "    <tr>\n",
       "      <th>7480</th>\n",
       "      <td>جزائريون بالطارف منعوا 20 سيارة تونسية من العب...</td>\n",
       "      <td>a129489-جزائريون-بالطارف-منعوا-20-سيارة-تونسية...</td>\n",
       "      <td>12 مارس 2019</td>\n",
       "    </tr>\n",
       "    <tr>\n",
       "      <th>7481</th>\n",
       "      <td>أميرها إمام جامع : محاكمة كتيبة إرهابية خططت ل...</td>\n",
       "      <td>a129488-أميرها-إمام-جامع---محاكمة-كتيبة-إرهابي...</td>\n",
       "      <td>12 مارس 2019</td>\n",
       "    </tr>\n",
       "    <tr>\n",
       "      <th>7482</th>\n",
       "      <td>خاص/ القصرين : معركة بين دوريات أمنية ومروجي م...</td>\n",
       "      <td>a129487-خاص--القصرين---معركة-بين-دوريات-أمنية-...</td>\n",
       "      <td>12 مارس 2019</td>\n",
       "    </tr>\n",
       "    <tr>\n",
       "      <th>7483</th>\n",
       "      <td>في البحيرة : أثيوبية تضع في فم مولودها كمية من...</td>\n",
       "      <td>a129486-في-البحيرة---أثيوبية-تضع-في-فم-مولودها...</td>\n",
       "      <td>12 مارس 2019</td>\n",
       "    </tr>\n",
       "    <tr>\n",
       "      <th>7484</th>\n",
       "      <td>في المنستير: ينكّل بوالدته ويضعها على السرير ب...</td>\n",
       "      <td>a129485-في-المنستير--ينكّل-بوالدته-ويضعها-على-...</td>\n",
       "      <td>12 مارس 2019</td>\n",
       "    </tr>\n",
       "  </tbody>\n",
       "</table>\n",
       "</div>"
      ],
      "text/plain": [
       "                                                  title  \\\n",
       "7480  جزائريون بالطارف منعوا 20 سيارة تونسية من العب...   \n",
       "7481  أميرها إمام جامع : محاكمة كتيبة إرهابية خططت ل...   \n",
       "7482  خاص/ القصرين : معركة بين دوريات أمنية ومروجي م...   \n",
       "7483  في البحيرة : أثيوبية تضع في فم مولودها كمية من...   \n",
       "7484  في المنستير: ينكّل بوالدته ويضعها على السرير ب...   \n",
       "\n",
       "                                              hyperlink          date  \n",
       "7480  a129489-جزائريون-بالطارف-منعوا-20-سيارة-تونسية...  12 مارس 2019  \n",
       "7481  a129488-أميرها-إمام-جامع---محاكمة-كتيبة-إرهابي...  12 مارس 2019  \n",
       "7482  a129487-خاص--القصرين---معركة-بين-دوريات-أمنية-...  12 مارس 2019  \n",
       "7483  a129486-في-البحيرة---أثيوبية-تضع-في-فم-مولودها...  12 مارس 2019  \n",
       "7484  a129485-في-المنستير--ينكّل-بوالدته-ويضعها-على-...  12 مارس 2019  "
      ]
     },
     "execution_count": 12,
     "metadata": {},
     "output_type": "execute_result"
    }
   ],
   "source": [
    "data_df_new.tail()"
   ]
  },
  {
   "cell_type": "markdown",
   "metadata": {},
   "source": [
    "#### remove duplicate urls"
   ]
  },
  {
   "cell_type": "code",
   "execution_count": 51,
   "metadata": {},
   "outputs": [
    {
     "data": {
      "text/plain": [
       "False"
      ]
     },
     "execution_count": 51,
     "metadata": {},
     "output_type": "execute_result"
    }
   ],
   "source": [
    "data_df_new.hyperlink.nunique()<data_df_new.shape[0]"
   ]
  },
  {
   "cell_type": "code",
   "execution_count": 19,
   "metadata": {},
   "outputs": [
    {
     "data": {
      "text/plain": [
       "(7485, 3)"
      ]
     },
     "execution_count": 19,
     "metadata": {},
     "output_type": "execute_result"
    }
   ],
   "source": [
    "if data_df_new.hyperlink.nunique()<data_df_new.shape[0]:\n",
    "    data_df_new.drop_duplicates(subset='hyperlink',inplace=True)\n",
    "    data_df_new.reset_index(drop=True,inplace=True)\n",
    "    data_df_new.shape"
   ]
  },
  {
   "cell_type": "code",
   "execution_count": 52,
   "metadata": {},
   "outputs": [],
   "source": [
    "assert (data_df_new.index[-1]+1)==data_df_new.shape[0]"
   ]
  },
  {
   "cell_type": "code",
   "execution_count": 53,
   "metadata": {},
   "outputs": [
    {
     "data": {
      "text/plain": [
       "(7485, 6)"
      ]
     },
     "execution_count": 53,
     "metadata": {},
     "output_type": "execute_result"
    }
   ],
   "source": [
    "data_df_new.shape"
   ]
  },
  {
   "cell_type": "markdown",
   "metadata": {},
   "source": [
    "#### cleanup hyperlink field\n",
    "convert from relative to absolute url"
   ]
  },
  {
   "cell_type": "code",
   "execution_count": 21,
   "metadata": {},
   "outputs": [],
   "source": [
    "BASE_URL0 = 'https://www.assarih.com/'"
   ]
  },
  {
   "cell_type": "code",
   "execution_count": 22,
   "metadata": {},
   "outputs": [
    {
     "data": {
      "text/html": [
       "<div>\n",
       "<style scoped>\n",
       "    .dataframe tbody tr th:only-of-type {\n",
       "        vertical-align: middle;\n",
       "    }\n",
       "\n",
       "    .dataframe tbody tr th {\n",
       "        vertical-align: top;\n",
       "    }\n",
       "\n",
       "    .dataframe thead th {\n",
       "        text-align: right;\n",
       "    }\n",
       "</style>\n",
       "<table border=\"1\" class=\"dataframe\">\n",
       "  <thead>\n",
       "    <tr style=\"text-align: right;\">\n",
       "      <th></th>\n",
       "      <th>title</th>\n",
       "      <th>hyperlink</th>\n",
       "      <th>date</th>\n",
       "    </tr>\n",
       "  </thead>\n",
       "  <tbody>\n",
       "    <tr>\n",
       "      <th>0</th>\n",
       "      <td>جريمة بأطوار غريبة..استيقظ الزوج ليلا فوجد زو...</td>\n",
       "      <td>https://www.assarih.com/a161665--جريمة-بأطوار-...</td>\n",
       "      <td>26 فيفري 2020</td>\n",
       "    </tr>\n",
       "    <tr>\n",
       "      <th>1</th>\n",
       "      <td>يحدث في تونس : تلميذ يعتدي على زميلته بـ«لام» ...</td>\n",
       "      <td>https://www.assarih.com/a161660-يحدث-في-تونس--...</td>\n",
       "      <td>26 فيفري 2020</td>\n",
       "    </tr>\n",
       "    <tr>\n",
       "      <th>2</th>\n",
       "      <td>حملة أمنية في بنزرت (صور)</td>\n",
       "      <td>https://www.assarih.com/a161656-حملة-أمنية-في-...</td>\n",
       "      <td>26 فيفري 2020</td>\n",
       "    </tr>\n",
       "    <tr>\n",
       "      <th>3</th>\n",
       "      <td>تزامنا مع التخوفات من \"كورونا\" : وفاة جديدة با...</td>\n",
       "      <td>https://www.assarih.com/a161648-تزامنا-مع-التخ...</td>\n",
       "      <td>26 فيفري 2020</td>\n",
       "    </tr>\n",
       "    <tr>\n",
       "      <th>4</th>\n",
       "      <td>تورط في 10 قضايا تحويل وجهة : سفاح النساء بالا...</td>\n",
       "      <td>https://www.assarih.com/a161647-تورط-في-10-قضا...</td>\n",
       "      <td>26 فيفري 2020</td>\n",
       "    </tr>\n",
       "  </tbody>\n",
       "</table>\n",
       "</div>"
      ],
      "text/plain": [
       "                                               title  \\\n",
       "0   جريمة بأطوار غريبة..استيقظ الزوج ليلا فوجد زو...   \n",
       "1  يحدث في تونس : تلميذ يعتدي على زميلته بـ«لام» ...   \n",
       "2                          حملة أمنية في بنزرت (صور)   \n",
       "3  تزامنا مع التخوفات من \"كورونا\" : وفاة جديدة با...   \n",
       "4  تورط في 10 قضايا تحويل وجهة : سفاح النساء بالا...   \n",
       "\n",
       "                                           hyperlink           date  \n",
       "0  https://www.assarih.com/a161665--جريمة-بأطوار-...  26 فيفري 2020  \n",
       "1  https://www.assarih.com/a161660-يحدث-في-تونس--...  26 فيفري 2020  \n",
       "2  https://www.assarih.com/a161656-حملة-أمنية-في-...  26 فيفري 2020  \n",
       "3  https://www.assarih.com/a161648-تزامنا-مع-التخ...  26 فيفري 2020  \n",
       "4  https://www.assarih.com/a161647-تورط-في-10-قضا...  26 فيفري 2020  "
      ]
     },
     "execution_count": 22,
     "metadata": {},
     "output_type": "execute_result"
    }
   ],
   "source": [
    "## convert to absolute url\n",
    "\n",
    "data_df_new['hyperlink'] = data_df_new.hyperlink.map(lambda url: BASE_URL0+url)\n",
    "data_df_new.head()"
   ]
  },
  {
   "cell_type": "code",
   "execution_count": 23,
   "metadata": {},
   "outputs": [
    {
     "data": {
      "text/html": [
       "<div>\n",
       "<style scoped>\n",
       "    .dataframe tbody tr th:only-of-type {\n",
       "        vertical-align: middle;\n",
       "    }\n",
       "\n",
       "    .dataframe tbody tr th {\n",
       "        vertical-align: top;\n",
       "    }\n",
       "\n",
       "    .dataframe thead th {\n",
       "        text-align: right;\n",
       "    }\n",
       "</style>\n",
       "<table border=\"1\" class=\"dataframe\">\n",
       "  <thead>\n",
       "    <tr style=\"text-align: right;\">\n",
       "      <th></th>\n",
       "      <th>title</th>\n",
       "      <th>hyperlink</th>\n",
       "      <th>date</th>\n",
       "    </tr>\n",
       "  </thead>\n",
       "  <tbody>\n",
       "    <tr>\n",
       "      <th>7480</th>\n",
       "      <td>جزائريون بالطارف منعوا 20 سيارة تونسية من العب...</td>\n",
       "      <td>https://www.assarih.com/a129489-جزائريون-بالطا...</td>\n",
       "      <td>12 مارس 2019</td>\n",
       "    </tr>\n",
       "    <tr>\n",
       "      <th>7481</th>\n",
       "      <td>أميرها إمام جامع : محاكمة كتيبة إرهابية خططت ل...</td>\n",
       "      <td>https://www.assarih.com/a129488-أميرها-إمام-جا...</td>\n",
       "      <td>12 مارس 2019</td>\n",
       "    </tr>\n",
       "    <tr>\n",
       "      <th>7482</th>\n",
       "      <td>خاص/ القصرين : معركة بين دوريات أمنية ومروجي م...</td>\n",
       "      <td>https://www.assarih.com/a129487-خاص--القصرين--...</td>\n",
       "      <td>12 مارس 2019</td>\n",
       "    </tr>\n",
       "    <tr>\n",
       "      <th>7483</th>\n",
       "      <td>في البحيرة : أثيوبية تضع في فم مولودها كمية من...</td>\n",
       "      <td>https://www.assarih.com/a129486-في-البحيرة---أ...</td>\n",
       "      <td>12 مارس 2019</td>\n",
       "    </tr>\n",
       "    <tr>\n",
       "      <th>7484</th>\n",
       "      <td>في المنستير: ينكّل بوالدته ويضعها على السرير ب...</td>\n",
       "      <td>https://www.assarih.com/a129485-في-المنستير--ي...</td>\n",
       "      <td>12 مارس 2019</td>\n",
       "    </tr>\n",
       "  </tbody>\n",
       "</table>\n",
       "</div>"
      ],
      "text/plain": [
       "                                                  title  \\\n",
       "7480  جزائريون بالطارف منعوا 20 سيارة تونسية من العب...   \n",
       "7481  أميرها إمام جامع : محاكمة كتيبة إرهابية خططت ل...   \n",
       "7482  خاص/ القصرين : معركة بين دوريات أمنية ومروجي م...   \n",
       "7483  في البحيرة : أثيوبية تضع في فم مولودها كمية من...   \n",
       "7484  في المنستير: ينكّل بوالدته ويضعها على السرير ب...   \n",
       "\n",
       "                                              hyperlink          date  \n",
       "7480  https://www.assarih.com/a129489-جزائريون-بالطا...  12 مارس 2019  \n",
       "7481  https://www.assarih.com/a129488-أميرها-إمام-جا...  12 مارس 2019  \n",
       "7482  https://www.assarih.com/a129487-خاص--القصرين--...  12 مارس 2019  \n",
       "7483  https://www.assarih.com/a129486-في-البحيرة---أ...  12 مارس 2019  \n",
       "7484  https://www.assarih.com/a129485-في-المنستير--ي...  12 مارس 2019  "
      ]
     },
     "execution_count": 23,
     "metadata": {},
     "output_type": "execute_result"
    }
   ],
   "source": [
    "data_df_new.tail()"
   ]
  },
  {
   "cell_type": "markdown",
   "metadata": {},
   "source": [
    "#### parse date field"
   ]
  },
  {
   "cell_type": "code",
   "execution_count": 24,
   "metadata": {},
   "outputs": [],
   "source": [
    "import dateparser"
   ]
  },
  {
   "cell_type": "markdown",
   "metadata": {},
   "source": [
    "**Scratch Pad**"
   ]
  },
  {
   "cell_type": "code",
   "execution_count": 25,
   "metadata": {},
   "outputs": [
    {
     "data": {
      "text/plain": [
       "datetime.datetime(2012, 12, 12, 0, 0)"
      ]
     },
     "execution_count": 25,
     "metadata": {},
     "output_type": "execute_result"
    }
   ],
   "source": [
    "dateparser.parse('12/12/12')"
   ]
  },
  {
   "cell_type": "code",
   "execution_count": 26,
   "metadata": {},
   "outputs": [
    {
     "data": {
      "text/plain": [
       "datetime.datetime(2015, 8, 15, 13, 8)"
      ]
     },
     "execution_count": 26,
     "metadata": {},
     "output_type": "execute_result"
    }
   ],
   "source": [
    "dateparser.parse('2015, Ago 15, 1:08 pm', languages=['pt', 'es'])"
   ]
  },
  {
   "cell_type": "code",
   "execution_count": 27,
   "metadata": {},
   "outputs": [
    {
     "name": "stdout",
     "output_type": "stream",
     "text": [
      "12 مارس 2019\n"
     ]
    },
    {
     "data": {
      "text/plain": [
       "datetime.datetime"
      ]
     },
     "execution_count": 27,
     "metadata": {},
     "output_type": "execute_result"
    }
   ],
   "source": [
    "x = data_df_new.date.iloc[-1]\n",
    "print(x)\n",
    "y = dateparser.parse(x)\n",
    "type(y)"
   ]
  },
  {
   "cell_type": "code",
   "execution_count": 28,
   "metadata": {},
   "outputs": [
    {
     "data": {
      "text/plain": [
       "datetime.datetime(2019, 3, 12, 0, 0)"
      ]
     },
     "execution_count": 28,
     "metadata": {},
     "output_type": "execute_result"
    }
   ],
   "source": [
    "y"
   ]
  },
  {
   "cell_type": "code",
   "execution_count": 29,
   "metadata": {},
   "outputs": [
    {
     "data": {
      "text/plain": [
       "(3, 12)"
      ]
     },
     "execution_count": 29,
     "metadata": {},
     "output_type": "execute_result"
    }
   ],
   "source": [
    "y.month,y.day"
   ]
  },
  {
   "cell_type": "code",
   "execution_count": 30,
   "metadata": {},
   "outputs": [
    {
     "data": {
      "text/plain": [
       "Timestamp('2019-03-12 00:00:00')"
      ]
     },
     "execution_count": 30,
     "metadata": {},
     "output_type": "execute_result"
    }
   ],
   "source": [
    "pd.to_datetime(y)"
   ]
  },
  {
   "cell_type": "code",
   "execution_count": 31,
   "metadata": {},
   "outputs": [
    {
     "name": "stdout",
     "output_type": "stream",
     "text": [
      "02 ماي 2019\n"
     ]
    },
    {
     "data": {
      "text/plain": [
       "True"
      ]
     },
     "execution_count": 31,
     "metadata": {},
     "output_type": "execute_result"
    }
   ],
   "source": [
    "x = data_df_new.date.iloc[-1000]\n",
    "print(x)\n",
    "y = dateparser.parse(x,languages=['ar'])\n",
    "y==None"
   ]
  },
  {
   "cell_type": "markdown",
   "metadata": {},
   "source": [
    "**End Scratch Pad**"
   ]
  },
  {
   "cell_type": "markdown",
   "metadata": {},
   "source": [
    "Remark about method using the `dateparser` library :\n",
    "- This method failed for many dates and produced None values; for example '29 أفريل 2019'. Some dates were parsed correctly such as '09 مارس 2019'.\n",
    "- Apparently this is because some month names were not recognized by the dateparser library.\n",
    "- In fact, month names used in Tunisia --and North Africa-- are Arabic transliterations of French month names, a legacy of French colonialism.\n",
    "- Most likely the `dateparser` library uses month names used in Arab countries of the Levant and Gulf regions ..."
   ]
  },
  {
   "cell_type": "code",
   "execution_count": 32,
   "metadata": {},
   "outputs": [],
   "source": [
    "## First method: using the dateparser library\n",
    "## took a long while to run (several minutes)\n",
    "\n",
    "# %time data_df_new['date_dt'] = data_df_new.date.map(dateparser.parse)"
   ]
  },
  {
   "cell_type": "code",
   "execution_count": 33,
   "metadata": {},
   "outputs": [],
   "source": [
    "## therefore I decided to write my own date parsing method, combined with Pandas's to_datetime method.\n",
    "\n",
    "tunisian_month_to_number_dict = {'جانفي':1,\n",
    " 'ديسمبر':12,\n",
    " 'أكتوبر':10,\n",
    " 'نوفمبر':11,\n",
    " 'أوت':8,\n",
    " 'ماي':5,\n",
    " 'جويلية':7,\n",
    " 'سبتمبر':9,\n",
    " 'فيفري':2,\n",
    " 'جوان':6,\n",
    " 'أفريل':4,\n",
    " 'مارس':3}\n",
    "\n",
    "df1 = data_df_new.date.str.findall('(\\d{1,2})(.*)(20\\d\\d)').map(lambda x: x[0])\n",
    "df2 = pd.DataFrame(df1.tolist(),columns=['day','month','year'])\n",
    "df2['month_nb'] = df2.month.str.strip().map(tunisian_month_to_number_dict)"
   ]
  },
  {
   "cell_type": "code",
   "execution_count": 34,
   "metadata": {},
   "outputs": [
    {
     "data": {
      "text/html": [
       "<div>\n",
       "<style scoped>\n",
       "    .dataframe tbody tr th:only-of-type {\n",
       "        vertical-align: middle;\n",
       "    }\n",
       "\n",
       "    .dataframe tbody tr th {\n",
       "        vertical-align: top;\n",
       "    }\n",
       "\n",
       "    .dataframe thead th {\n",
       "        text-align: right;\n",
       "    }\n",
       "</style>\n",
       "<table border=\"1\" class=\"dataframe\">\n",
       "  <thead>\n",
       "    <tr style=\"text-align: right;\">\n",
       "      <th></th>\n",
       "      <th>day</th>\n",
       "      <th>month</th>\n",
       "      <th>year</th>\n",
       "      <th>month_nb</th>\n",
       "      <th>date_dt</th>\n",
       "    </tr>\n",
       "  </thead>\n",
       "  <tbody>\n",
       "    <tr>\n",
       "      <th>7480</th>\n",
       "      <td>12</td>\n",
       "      <td>مارس</td>\n",
       "      <td>2019</td>\n",
       "      <td>3</td>\n",
       "      <td>2019-03-12</td>\n",
       "    </tr>\n",
       "    <tr>\n",
       "      <th>7481</th>\n",
       "      <td>12</td>\n",
       "      <td>مارس</td>\n",
       "      <td>2019</td>\n",
       "      <td>3</td>\n",
       "      <td>2019-03-12</td>\n",
       "    </tr>\n",
       "    <tr>\n",
       "      <th>7482</th>\n",
       "      <td>12</td>\n",
       "      <td>مارس</td>\n",
       "      <td>2019</td>\n",
       "      <td>3</td>\n",
       "      <td>2019-03-12</td>\n",
       "    </tr>\n",
       "    <tr>\n",
       "      <th>7483</th>\n",
       "      <td>12</td>\n",
       "      <td>مارس</td>\n",
       "      <td>2019</td>\n",
       "      <td>3</td>\n",
       "      <td>2019-03-12</td>\n",
       "    </tr>\n",
       "    <tr>\n",
       "      <th>7484</th>\n",
       "      <td>12</td>\n",
       "      <td>مارس</td>\n",
       "      <td>2019</td>\n",
       "      <td>3</td>\n",
       "      <td>2019-03-12</td>\n",
       "    </tr>\n",
       "  </tbody>\n",
       "</table>\n",
       "</div>"
      ],
      "text/plain": [
       "     day   month  year  month_nb    date_dt\n",
       "7480  12   مارس   2019         3 2019-03-12\n",
       "7481  12   مارس   2019         3 2019-03-12\n",
       "7482  12   مارس   2019         3 2019-03-12\n",
       "7483  12   مارس   2019         3 2019-03-12\n",
       "7484  12   مارس   2019         3 2019-03-12"
      ]
     },
     "execution_count": 34,
     "metadata": {},
     "output_type": "execute_result"
    }
   ],
   "source": [
    "df2['date_dt'] = df2.apply(lambda row: pd.to_datetime(' '.join([str(row.month_nb),row.day,row.year])), axis=1)\n",
    "df2.set_index(data_df_new.index,inplace=True)\n",
    "df2.tail()"
   ]
  },
  {
   "cell_type": "code",
   "execution_count": 35,
   "metadata": {},
   "outputs": [
    {
     "data": {
      "text/html": [
       "<div>\n",
       "<style scoped>\n",
       "    .dataframe tbody tr th:only-of-type {\n",
       "        vertical-align: middle;\n",
       "    }\n",
       "\n",
       "    .dataframe tbody tr th {\n",
       "        vertical-align: top;\n",
       "    }\n",
       "\n",
       "    .dataframe thead th {\n",
       "        text-align: right;\n",
       "    }\n",
       "</style>\n",
       "<table border=\"1\" class=\"dataframe\">\n",
       "  <thead>\n",
       "    <tr style=\"text-align: right;\">\n",
       "      <th></th>\n",
       "      <th>title</th>\n",
       "      <th>hyperlink</th>\n",
       "      <th>date</th>\n",
       "      <th>date_dt</th>\n",
       "    </tr>\n",
       "  </thead>\n",
       "  <tbody>\n",
       "    <tr>\n",
       "      <th>0</th>\n",
       "      <td>جريمة بأطوار غريبة..استيقظ الزوج ليلا فوجد زو...</td>\n",
       "      <td>https://www.assarih.com/a161665--جريمة-بأطوار-...</td>\n",
       "      <td>26 فيفري 2020</td>\n",
       "      <td>2020-02-26</td>\n",
       "    </tr>\n",
       "    <tr>\n",
       "      <th>1</th>\n",
       "      <td>يحدث في تونس : تلميذ يعتدي على زميلته بـ«لام» ...</td>\n",
       "      <td>https://www.assarih.com/a161660-يحدث-في-تونس--...</td>\n",
       "      <td>26 فيفري 2020</td>\n",
       "      <td>2020-02-26</td>\n",
       "    </tr>\n",
       "    <tr>\n",
       "      <th>2</th>\n",
       "      <td>حملة أمنية في بنزرت (صور)</td>\n",
       "      <td>https://www.assarih.com/a161656-حملة-أمنية-في-...</td>\n",
       "      <td>26 فيفري 2020</td>\n",
       "      <td>2020-02-26</td>\n",
       "    </tr>\n",
       "    <tr>\n",
       "      <th>3</th>\n",
       "      <td>تزامنا مع التخوفات من \"كورونا\" : وفاة جديدة با...</td>\n",
       "      <td>https://www.assarih.com/a161648-تزامنا-مع-التخ...</td>\n",
       "      <td>26 فيفري 2020</td>\n",
       "      <td>2020-02-26</td>\n",
       "    </tr>\n",
       "    <tr>\n",
       "      <th>4</th>\n",
       "      <td>تورط في 10 قضايا تحويل وجهة : سفاح النساء بالا...</td>\n",
       "      <td>https://www.assarih.com/a161647-تورط-في-10-قضا...</td>\n",
       "      <td>26 فيفري 2020</td>\n",
       "      <td>2020-02-26</td>\n",
       "    </tr>\n",
       "  </tbody>\n",
       "</table>\n",
       "</div>"
      ],
      "text/plain": [
       "                                               title  \\\n",
       "0   جريمة بأطوار غريبة..استيقظ الزوج ليلا فوجد زو...   \n",
       "1  يحدث في تونس : تلميذ يعتدي على زميلته بـ«لام» ...   \n",
       "2                          حملة أمنية في بنزرت (صور)   \n",
       "3  تزامنا مع التخوفات من \"كورونا\" : وفاة جديدة با...   \n",
       "4  تورط في 10 قضايا تحويل وجهة : سفاح النساء بالا...   \n",
       "\n",
       "                                           hyperlink           date    date_dt  \n",
       "0  https://www.assarih.com/a161665--جريمة-بأطوار-...  26 فيفري 2020 2020-02-26  \n",
       "1  https://www.assarih.com/a161660-يحدث-في-تونس--...  26 فيفري 2020 2020-02-26  \n",
       "2  https://www.assarih.com/a161656-حملة-أمنية-في-...  26 فيفري 2020 2020-02-26  \n",
       "3  https://www.assarih.com/a161648-تزامنا-مع-التخ...  26 فيفري 2020 2020-02-26  \n",
       "4  https://www.assarih.com/a161647-تورط-في-10-قضا...  26 فيفري 2020 2020-02-26  "
      ]
     },
     "execution_count": 35,
     "metadata": {},
     "output_type": "execute_result"
    }
   ],
   "source": [
    "data_df_new['date_dt'] = df2['date_dt']\n",
    "data_df_new.head()"
   ]
  },
  {
   "cell_type": "code",
   "execution_count": 36,
   "metadata": {
    "scrolled": true
   },
   "outputs": [
    {
     "data": {
      "text/html": [
       "<div>\n",
       "<style scoped>\n",
       "    .dataframe tbody tr th:only-of-type {\n",
       "        vertical-align: middle;\n",
       "    }\n",
       "\n",
       "    .dataframe tbody tr th {\n",
       "        vertical-align: top;\n",
       "    }\n",
       "\n",
       "    .dataframe thead th {\n",
       "        text-align: right;\n",
       "    }\n",
       "</style>\n",
       "<table border=\"1\" class=\"dataframe\">\n",
       "  <thead>\n",
       "    <tr style=\"text-align: right;\">\n",
       "      <th></th>\n",
       "      <th>title</th>\n",
       "      <th>hyperlink</th>\n",
       "      <th>date</th>\n",
       "      <th>date_dt</th>\n",
       "    </tr>\n",
       "  </thead>\n",
       "  <tbody>\n",
       "    <tr>\n",
       "      <th>7480</th>\n",
       "      <td>جزائريون بالطارف منعوا 20 سيارة تونسية من العب...</td>\n",
       "      <td>https://www.assarih.com/a129489-جزائريون-بالطا...</td>\n",
       "      <td>12 مارس 2019</td>\n",
       "      <td>2019-03-12</td>\n",
       "    </tr>\n",
       "    <tr>\n",
       "      <th>7481</th>\n",
       "      <td>أميرها إمام جامع : محاكمة كتيبة إرهابية خططت ل...</td>\n",
       "      <td>https://www.assarih.com/a129488-أميرها-إمام-جا...</td>\n",
       "      <td>12 مارس 2019</td>\n",
       "      <td>2019-03-12</td>\n",
       "    </tr>\n",
       "    <tr>\n",
       "      <th>7482</th>\n",
       "      <td>خاص/ القصرين : معركة بين دوريات أمنية ومروجي م...</td>\n",
       "      <td>https://www.assarih.com/a129487-خاص--القصرين--...</td>\n",
       "      <td>12 مارس 2019</td>\n",
       "      <td>2019-03-12</td>\n",
       "    </tr>\n",
       "    <tr>\n",
       "      <th>7483</th>\n",
       "      <td>في البحيرة : أثيوبية تضع في فم مولودها كمية من...</td>\n",
       "      <td>https://www.assarih.com/a129486-في-البحيرة---أ...</td>\n",
       "      <td>12 مارس 2019</td>\n",
       "      <td>2019-03-12</td>\n",
       "    </tr>\n",
       "    <tr>\n",
       "      <th>7484</th>\n",
       "      <td>في المنستير: ينكّل بوالدته ويضعها على السرير ب...</td>\n",
       "      <td>https://www.assarih.com/a129485-في-المنستير--ي...</td>\n",
       "      <td>12 مارس 2019</td>\n",
       "      <td>2019-03-12</td>\n",
       "    </tr>\n",
       "  </tbody>\n",
       "</table>\n",
       "</div>"
      ],
      "text/plain": [
       "                                                  title  \\\n",
       "7480  جزائريون بالطارف منعوا 20 سيارة تونسية من العب...   \n",
       "7481  أميرها إمام جامع : محاكمة كتيبة إرهابية خططت ل...   \n",
       "7482  خاص/ القصرين : معركة بين دوريات أمنية ومروجي م...   \n",
       "7483  في البحيرة : أثيوبية تضع في فم مولودها كمية من...   \n",
       "7484  في المنستير: ينكّل بوالدته ويضعها على السرير ب...   \n",
       "\n",
       "                                              hyperlink          date  \\\n",
       "7480  https://www.assarih.com/a129489-جزائريون-بالطا...  12 مارس 2019   \n",
       "7481  https://www.assarih.com/a129488-أميرها-إمام-جا...  12 مارس 2019   \n",
       "7482  https://www.assarih.com/a129487-خاص--القصرين--...  12 مارس 2019   \n",
       "7483  https://www.assarih.com/a129486-في-البحيرة---أ...  12 مارس 2019   \n",
       "7484  https://www.assarih.com/a129485-في-المنستير--ي...  12 مارس 2019   \n",
       "\n",
       "        date_dt  \n",
       "7480 2019-03-12  \n",
       "7481 2019-03-12  \n",
       "7482 2019-03-12  \n",
       "7483 2019-03-12  \n",
       "7484 2019-03-12  "
      ]
     },
     "execution_count": 36,
     "metadata": {},
     "output_type": "execute_result"
    }
   ],
   "source": [
    "data_df_new.tail()"
   ]
  },
  {
   "cell_type": "code",
   "execution_count": 37,
   "metadata": {},
   "outputs": [
    {
     "data": {
      "text/plain": [
       "7480    3\n",
       "7481    3\n",
       "7482    3\n",
       "7483    3\n",
       "7484    3\n",
       "Name: date_dt, dtype: int64"
      ]
     },
     "execution_count": 37,
     "metadata": {},
     "output_type": "execute_result"
    }
   ],
   "source": [
    "## double-check that the month and day were not swapped somehow\n",
    "\n",
    "data_df_new.date_dt.tail().map(lambda x: x.month)"
   ]
  },
  {
   "cell_type": "code",
   "execution_count": 38,
   "metadata": {},
   "outputs": [
    {
     "data": {
      "text/plain": [
       "title                object\n",
       "hyperlink            object\n",
       "date                 object\n",
       "date_dt      datetime64[ns]\n",
       "dtype: object"
      ]
     },
     "execution_count": 38,
     "metadata": {},
     "output_type": "execute_result"
    }
   ],
   "source": [
    "data_df_new.dtypes"
   ]
  },
  {
   "cell_type": "markdown",
   "metadata": {},
   "source": [
    "****"
   ]
  },
  {
   "cell_type": "markdown",
   "metadata": {},
   "source": [
    "## Download text content from harvested articles' urls"
   ]
  },
  {
   "cell_type": "code",
   "execution_count": 39,
   "metadata": {},
   "outputs": [],
   "source": [
    "import os.path\n",
    "#from os import path"
   ]
  },
  {
   "cell_type": "code",
   "execution_count": 40,
   "metadata": {},
   "outputs": [],
   "source": [
    "data_folder_path = '../data/'\n",
    "outputfile_base_name = 'www.assarih.com'"
   ]
  },
  {
   "cell_type": "code",
   "execution_count": 41,
   "metadata": {},
   "outputs": [
    {
     "name": "stdout",
     "output_type": "stream",
     "text": [
      "0\n",
      "100\n",
      "200\n",
      "300\n",
      "400\n",
      "500\n",
      "600\n",
      "700\n",
      "800\n",
      "900\n",
      "1000\n",
      "1100\n",
      "1200\n",
      "1300\n",
      "1400\n",
      "1500\n",
      "1600\n",
      "1700\n",
      "1800\n",
      "1900\n",
      "2000\n",
      "2100\n",
      "2200\n",
      "2300\n",
      "2400\n",
      "2500\n",
      "2600\n",
      "2700\n",
      "2800\n",
      "2900\n",
      "3000\n",
      "3100\n",
      "3200\n",
      "3300\n",
      "3400\n",
      "3500\n",
      "3600\n",
      "3700\n",
      "3800\n",
      "3900\n",
      "4000\n",
      "4100\n",
      "4200\n",
      "4300\n",
      "4400\n",
      "4500\n",
      "4600\n",
      "4700\n",
      "4800\n",
      "4900\n",
      "5000\n",
      "5100\n",
      "5200\n",
      "5300\n",
      "5400\n",
      "5500\n",
      "5600\n",
      "5700\n",
      "5800\n",
      "5900\n",
      "6000\n",
      "6100\n",
      "6200\n",
      "6300\n",
      "6400\n",
      "6500\n",
      "6600\n",
      "6700\n",
      "6800\n",
      "6900\n",
      "7000\n",
      "7100\n",
      "7200\n",
      "7300\n",
      "7400\n",
      "--- 1.5710351149241129 minutes elapsed ---\n"
     ]
    }
   ],
   "source": [
    "import re\n",
    "\n",
    "start_time = time.time()\n",
    "filenames_list = []\n",
    "content_list = []\n",
    "\n",
    "for i,x in data_df_new.iterrows():\n",
    "    title,url = x.title,x.hyperlink\n",
    "    # check if record already exists\n",
    "    title_ = re.sub('\\W','_',title[0:70])\n",
    "    filename = outputfile_base_name + \"__\" + title_ + '.txt'\n",
    "    filenames_list.append(filename)\n",
    "    filename = data_folder_path + filename\n",
    "    if not(os.path.exists(filename)):\n",
    "        # download raw html page then extract text content\n",
    "        html = requests.get(url).content\n",
    "        sel = Selector(text = html)\n",
    "        u = sel.xpath(xpath_content).extract()\n",
    "        v = ' '.join([x.strip() for x in u]).strip()\n",
    "        if len(v)>0:\n",
    "            # write content to a text file\n",
    "            with open(filename, 'w', encoding='utf8') as f:\n",
    "                f.write(url+'\\n')\n",
    "                f.write(v)\n",
    "    else:\n",
    "        with open(filename, 'r', encoding='utf8') as f:\n",
    "            v = f.read()\n",
    "    content_list.append(v)\n",
    "    if (i%100)==0:\n",
    "        print(i)\n",
    "\n",
    "print(\"--- %s minutes elapsed ---\" % ((time.time() - start_time)/60))"
   ]
  },
  {
   "cell_type": "code",
   "execution_count": 42,
   "metadata": {},
   "outputs": [],
   "source": [
    "assert data_df_new.shape[0]==len(filenames_list)\n",
    "assert data_df_new.shape[0]==len(content_list)"
   ]
  },
  {
   "cell_type": "code",
   "execution_count": 43,
   "metadata": {},
   "outputs": [
    {
     "data": {
      "text/plain": [
       "['googletag.cmd.push(function() { googletag.display(\\'div-gpt-ad-1546942376253-0\\'); });    هي جريمة أخرى ولكن بأطوار وتطورات غريبة تلك التي شهدتها مدينة الجيزة، وذلك بعد أن أقدم زوج بالتعاون مع والده على قتل زوجته، وتم إيقافهما على الفور من قبل وحدات الأمن ليزعم الزوج أنه قتلها بعدما شاهدها تمارس الجنس مع والده! وأوضح الزوج المتهم في أقواله أمام النيابة العامة، إنه هناك خلافات شبه مستمرة بينه وبين زوجته؛ بسبب اكتشافه سوء سلوكها.  أضاف المتهم في ذات الأقوال أنه يقيم صحبة زوجته وأولادهما وأولاده من زوجة سابقة في شقة واحدة رفقة والده البالغ من العمر 70 عامًا؛ حيث يقيم هو وزوجته والأطفال في غرفة واحدة، والغرفة الأخرى يقيم بها والده؛ وبسبب هطول الأمطار المستمرة خلال الأيام الماضية على المدينة اضطر المتهم لترك غرفته، والنوم جميعًا برفقة والده على فراش واحد، مستخدمين غطاء واحد ليقيهم من البرد. واصل المتهم اعترافاته، مشيرا إلى أنه استيقظ ليلًا على أصوات وهمهمات ليتفاجأ بزوجته ووالده اللذان كانا ينامان بجانبه وهما بصدد ممارسة الجنس؛ وعندما شعرا باستيقاظه ادعيا النوم، فقام الزوج واصطحب الأطفال خارج الغرفة، وعاد حاملًا سكينا سدد بها طعنة في بطن زوجته، فصرخ والده وهو يحاول الاستفسار منه على سبب جريمته، نافيًا إقامته علاقة جنسية مع زوجة إبنه. شرحت التحقيقات واعترافات المتهم أن الزوجة كانت لاتزال على قيد الحياة عقب طعنها، وعندما حاولت التحدث والاعتراف لزوجها بعلاقتها مع والده، قام \"حماها\" بلف شال حول رقبتها وخنقها حتى الموت، وتصادف مع ذلك مشاهدة إحدى الفتيات للجريمة، وشهدت بإقامة المجني عليها وجدها علاقة جنسية وعندما شاهدهما الأب أنهى حياة زوجته. واستمعت النيابة العامة لأقوال 2 من الأطفال شهود العيان، ولا تزال التحقيقات مستمرة في أطوار جريمة غريبة…  المصدر: وكالات        googletag.cmd.push(function() { googletag.display(\\'div-gpt-ad-1546942685971-0\\'); });',\n",
       " 'googletag.cmd.push(function() { googletag.display(\\'div-gpt-ad-1546942376253-0\\'); });    تمكنت دورية تابعة لمركز الحرس الوطني ببومهل من ولاية ببنعروس يوم امس وفق مصادر امنية للصريح اون لاين أثناء قيامها بتأمين المؤسسات التربوية من القبض على تلميذ يبلغ 19 سنة بعد تعمّده الإعتداء بالعنف الشديد على تلميذة عمرها 16 سنة  و بالتحري مع التلميذ وسماع المتضررة بحضور والدتها اعترف بالاعتداء عليها بواسطة آلة حادة \"لام\" على مستوى يدها وذلك بعد أن أعلمته بأنها قطعت العلاقة التي تربطهما  وتم الاحتفاظ به لمواصلة التحريات معه واحالة الملف الى الفرقة المختصة للبحث في جرائم العنف ضد المرأة والطفل.  م.م             googletag.cmd.push(function() { googletag.display(\\'div-gpt-ad-1546942685971-0\\'); });',\n",
       " \"https://www.assarih.com/a158092-حملة-أمنية-في-بنزرت--صور-\\ngoogletag.cmd.push(function() { googletag.display('div-gpt-ad-1546942376253-0'); });      صور من حملة أمنية بمدينة بنزرت واكبتها الصريح أونلاين تحت اشراف مدير أمن اقليم ورئيس منطقة وأمر فوج التدخل ببنزرت . عدسة فؤاد بن شعبان                googletag.cmd.push(function() { googletag.display('div-gpt-ad-1546942685971-0'); });\",\n",
       " \"googletag.cmd.push(function() { googletag.display('div-gpt-ad-1546942376253-0'); });    تم اليوم الأربعاء 26 فيفري 2020 تسجيل حالتي إصابة بأنفلونزا الخنازير بالمستشفى الجهوي بباجة الأولى تتعلق بإمرأة مسنة تم إيواؤها بالمستشفى الجهوي بالمكان باعتبار أنها \\xa0تعاني من قصور قلبي وقد تعرضت لعدوى فيروس الـ H1N1 من أحد الزوار مما سبب لها مضاعفات حادة أدت إلى وفاتها في حين تقيم المصابة الثانية بإحدى المصحات الخاصة  يذكر انه تم تسجيل حالة وفاة اولى بمدنين منذ ايام واصابة ثانية لحامل بالقصرين.      هذا كما علمت الصريح اون لاين من مصادر خاصة ان الاقبال كان كبيرا من التونسيين على الصيدليات لاقتناء الكمامات الطبية تزامنا مع الاخبار الواردة من الجزائر حول تسجيل حالة اصابة بكورونا.  منى.م                      googletag.cmd.push(function() { googletag.display('div-gpt-ad-1546942685971-0'); });\",\n",
       " \"googletag.cmd.push(function() { googletag.display('div-gpt-ad-1546942376253-0'); });    تمكّن أعوان وإطارات شرطة رياض النصر بأريانة من القبض على عنصر خطير متورط في 10 عمليات ''براكاج'' بالمنازه وحيّ\\xa0النصر\\xa0تعمّد استهداف الفتيات والنساء لافتكاك متاعهنّ مع محاولته في كلّ مرة تحويل وجهة ضحاياه و التحرش بهنّ\\xa0جنسيا خصوصا وقد كان يختار مناطق منزوية لتنفيذ العمليات ويلقب بسفاح النساء بعد تقديم اكثر من 10 قضايا تحويل وجهة وبراكاجات في حقه وفق مصادر الصريح اون لاين. وبعد التحري معه تبين أنه يعمل في مجال البناء وأصيل ولاية بنزرت وهو يعاني من شذوذ واضطرابات نفسية.  م.م.            googletag.cmd.push(function() { googletag.display('div-gpt-ad-1546942685971-0'); });\"]"
      ]
     },
     "execution_count": 43,
     "metadata": {},
     "output_type": "execute_result"
    }
   ],
   "source": [
    "content_list[0:5]"
   ]
  },
  {
   "cell_type": "code",
   "execution_count": 44,
   "metadata": {},
   "outputs": [],
   "source": [
    "data_df_new['filename'] = pd.Series(filenames_list,index=data_df_new.index)\n",
    "data_df_new['raw_text'] = pd.Series(content_list,index=data_df_new.index)"
   ]
  },
  {
   "cell_type": "code",
   "execution_count": 45,
   "metadata": {},
   "outputs": [
    {
     "data": {
      "text/html": [
       "<div>\n",
       "<style scoped>\n",
       "    .dataframe tbody tr th:only-of-type {\n",
       "        vertical-align: middle;\n",
       "    }\n",
       "\n",
       "    .dataframe tbody tr th {\n",
       "        vertical-align: top;\n",
       "    }\n",
       "\n",
       "    .dataframe thead th {\n",
       "        text-align: right;\n",
       "    }\n",
       "</style>\n",
       "<table border=\"1\" class=\"dataframe\">\n",
       "  <thead>\n",
       "    <tr style=\"text-align: right;\">\n",
       "      <th></th>\n",
       "      <th>title</th>\n",
       "      <th>hyperlink</th>\n",
       "      <th>date</th>\n",
       "      <th>date_dt</th>\n",
       "      <th>filename</th>\n",
       "      <th>raw_text</th>\n",
       "    </tr>\n",
       "  </thead>\n",
       "  <tbody>\n",
       "    <tr>\n",
       "      <th>0</th>\n",
       "      <td>جريمة بأطوار غريبة..استيقظ الزوج ليلا فوجد زو...</td>\n",
       "      <td>https://www.assarih.com/a161665--جريمة-بأطوار-...</td>\n",
       "      <td>26 فيفري 2020</td>\n",
       "      <td>2020-02-26</td>\n",
       "      <td>www.assarih.com___جريمة_بأطوار_غريبة__استيقظ_ا...</td>\n",
       "      <td>googletag.cmd.push(function() { googletag.disp...</td>\n",
       "    </tr>\n",
       "    <tr>\n",
       "      <th>1</th>\n",
       "      <td>يحدث في تونس : تلميذ يعتدي على زميلته بـ«لام» ...</td>\n",
       "      <td>https://www.assarih.com/a161660-يحدث-في-تونس--...</td>\n",
       "      <td>26 فيفري 2020</td>\n",
       "      <td>2020-02-26</td>\n",
       "      <td>www.assarih.com__يحدث_في_تونس___تلميذ_يعتدي_عل...</td>\n",
       "      <td>googletag.cmd.push(function() { googletag.disp...</td>\n",
       "    </tr>\n",
       "    <tr>\n",
       "      <th>2</th>\n",
       "      <td>حملة أمنية في بنزرت (صور)</td>\n",
       "      <td>https://www.assarih.com/a161656-حملة-أمنية-في-...</td>\n",
       "      <td>26 فيفري 2020</td>\n",
       "      <td>2020-02-26</td>\n",
       "      <td>www.assarih.com__حملة_أمنية_في_بنزرت__صور_.txt</td>\n",
       "      <td>https://www.assarih.com/a158092-حملة-أمنية-في-...</td>\n",
       "    </tr>\n",
       "    <tr>\n",
       "      <th>3</th>\n",
       "      <td>تزامنا مع التخوفات من \"كورونا\" : وفاة جديدة با...</td>\n",
       "      <td>https://www.assarih.com/a161648-تزامنا-مع-التخ...</td>\n",
       "      <td>26 فيفري 2020</td>\n",
       "      <td>2020-02-26</td>\n",
       "      <td>www.assarih.com__تزامنا_مع_التخوفات_من__كورونا...</td>\n",
       "      <td>googletag.cmd.push(function() { googletag.disp...</td>\n",
       "    </tr>\n",
       "    <tr>\n",
       "      <th>4</th>\n",
       "      <td>تورط في 10 قضايا تحويل وجهة : سفاح النساء بالا...</td>\n",
       "      <td>https://www.assarih.com/a161647-تورط-في-10-قضا...</td>\n",
       "      <td>26 فيفري 2020</td>\n",
       "      <td>2020-02-26</td>\n",
       "      <td>www.assarih.com__تورط_في_10_قضايا_تحويل_وجهة__...</td>\n",
       "      <td>googletag.cmd.push(function() { googletag.disp...</td>\n",
       "    </tr>\n",
       "  </tbody>\n",
       "</table>\n",
       "</div>"
      ],
      "text/plain": [
       "                                               title  \\\n",
       "0   جريمة بأطوار غريبة..استيقظ الزوج ليلا فوجد زو...   \n",
       "1  يحدث في تونس : تلميذ يعتدي على زميلته بـ«لام» ...   \n",
       "2                          حملة أمنية في بنزرت (صور)   \n",
       "3  تزامنا مع التخوفات من \"كورونا\" : وفاة جديدة با...   \n",
       "4  تورط في 10 قضايا تحويل وجهة : سفاح النساء بالا...   \n",
       "\n",
       "                                           hyperlink           date  \\\n",
       "0  https://www.assarih.com/a161665--جريمة-بأطوار-...  26 فيفري 2020   \n",
       "1  https://www.assarih.com/a161660-يحدث-في-تونس--...  26 فيفري 2020   \n",
       "2  https://www.assarih.com/a161656-حملة-أمنية-في-...  26 فيفري 2020   \n",
       "3  https://www.assarih.com/a161648-تزامنا-مع-التخ...  26 فيفري 2020   \n",
       "4  https://www.assarih.com/a161647-تورط-في-10-قضا...  26 فيفري 2020   \n",
       "\n",
       "     date_dt                                           filename  \\\n",
       "0 2020-02-26  www.assarih.com___جريمة_بأطوار_غريبة__استيقظ_ا...   \n",
       "1 2020-02-26  www.assarih.com__يحدث_في_تونس___تلميذ_يعتدي_عل...   \n",
       "2 2020-02-26     www.assarih.com__حملة_أمنية_في_بنزرت__صور_.txt   \n",
       "3 2020-02-26  www.assarih.com__تزامنا_مع_التخوفات_من__كورونا...   \n",
       "4 2020-02-26  www.assarih.com__تورط_في_10_قضايا_تحويل_وجهة__...   \n",
       "\n",
       "                                            raw_text  \n",
       "0  googletag.cmd.push(function() { googletag.disp...  \n",
       "1  googletag.cmd.push(function() { googletag.disp...  \n",
       "2  https://www.assarih.com/a158092-حملة-أمنية-في-...  \n",
       "3  googletag.cmd.push(function() { googletag.disp...  \n",
       "4  googletag.cmd.push(function() { googletag.disp...  "
      ]
     },
     "execution_count": 45,
     "metadata": {},
     "output_type": "execute_result"
    }
   ],
   "source": [
    "data_df_new.head()"
   ]
  },
  {
   "cell_type": "code",
   "execution_count": 46,
   "metadata": {},
   "outputs": [
    {
     "data": {
      "text/html": [
       "<div>\n",
       "<style scoped>\n",
       "    .dataframe tbody tr th:only-of-type {\n",
       "        vertical-align: middle;\n",
       "    }\n",
       "\n",
       "    .dataframe tbody tr th {\n",
       "        vertical-align: top;\n",
       "    }\n",
       "\n",
       "    .dataframe thead th {\n",
       "        text-align: right;\n",
       "    }\n",
       "</style>\n",
       "<table border=\"1\" class=\"dataframe\">\n",
       "  <thead>\n",
       "    <tr style=\"text-align: right;\">\n",
       "      <th></th>\n",
       "      <th>title</th>\n",
       "      <th>hyperlink</th>\n",
       "      <th>date</th>\n",
       "      <th>date_dt</th>\n",
       "      <th>filename</th>\n",
       "      <th>raw_text</th>\n",
       "    </tr>\n",
       "  </thead>\n",
       "  <tbody>\n",
       "    <tr>\n",
       "      <th>7480</th>\n",
       "      <td>جزائريون بالطارف منعوا 20 سيارة تونسية من العب...</td>\n",
       "      <td>https://www.assarih.com/a129489-جزائريون-بالطا...</td>\n",
       "      <td>12 مارس 2019</td>\n",
       "      <td>2019-03-12</td>\n",
       "      <td>www.assarih.com__جزائريون_بالطارف_منعوا_20_سيا...</td>\n",
       "      <td>https://www.assarih.com/a129489-جزائريون-بالطا...</td>\n",
       "    </tr>\n",
       "    <tr>\n",
       "      <th>7481</th>\n",
       "      <td>أميرها إمام جامع : محاكمة كتيبة إرهابية خططت ل...</td>\n",
       "      <td>https://www.assarih.com/a129488-أميرها-إمام-جا...</td>\n",
       "      <td>12 مارس 2019</td>\n",
       "      <td>2019-03-12</td>\n",
       "      <td>www.assarih.com__أميرها_إمام_جامع___محاكمة_كتي...</td>\n",
       "      <td>https://www.assarih.com/a129488-أميرها-إمام-جا...</td>\n",
       "    </tr>\n",
       "    <tr>\n",
       "      <th>7482</th>\n",
       "      <td>خاص/ القصرين : معركة بين دوريات أمنية ومروجي م...</td>\n",
       "      <td>https://www.assarih.com/a129487-خاص--القصرين--...</td>\n",
       "      <td>12 مارس 2019</td>\n",
       "      <td>2019-03-12</td>\n",
       "      <td>www.assarih.com__خاص__القصرين___معركة_بين_دوري...</td>\n",
       "      <td>https://www.assarih.com/a129487-خاص--القصرين--...</td>\n",
       "    </tr>\n",
       "    <tr>\n",
       "      <th>7483</th>\n",
       "      <td>في البحيرة : أثيوبية تضع في فم مولودها كمية من...</td>\n",
       "      <td>https://www.assarih.com/a129486-في-البحيرة---أ...</td>\n",
       "      <td>12 مارس 2019</td>\n",
       "      <td>2019-03-12</td>\n",
       "      <td>www.assarih.com__في_البحيرة___أثيوبية_تضع_في_ف...</td>\n",
       "      <td>https://www.assarih.com/a129486-في-البحيرة---أ...</td>\n",
       "    </tr>\n",
       "    <tr>\n",
       "      <th>7484</th>\n",
       "      <td>في المنستير: ينكّل بوالدته ويضعها على السرير ب...</td>\n",
       "      <td>https://www.assarih.com/a129485-في-المنستير--ي...</td>\n",
       "      <td>12 مارس 2019</td>\n",
       "      <td>2019-03-12</td>\n",
       "      <td>www.assarih.com__في_المنستير__ينك_ل_بوالدته_وي...</td>\n",
       "      <td>https://www.assarih.com/a129485-في-المنستير--ي...</td>\n",
       "    </tr>\n",
       "  </tbody>\n",
       "</table>\n",
       "</div>"
      ],
      "text/plain": [
       "                                                  title  \\\n",
       "7480  جزائريون بالطارف منعوا 20 سيارة تونسية من العب...   \n",
       "7481  أميرها إمام جامع : محاكمة كتيبة إرهابية خططت ل...   \n",
       "7482  خاص/ القصرين : معركة بين دوريات أمنية ومروجي م...   \n",
       "7483  في البحيرة : أثيوبية تضع في فم مولودها كمية من...   \n",
       "7484  في المنستير: ينكّل بوالدته ويضعها على السرير ب...   \n",
       "\n",
       "                                              hyperlink          date  \\\n",
       "7480  https://www.assarih.com/a129489-جزائريون-بالطا...  12 مارس 2019   \n",
       "7481  https://www.assarih.com/a129488-أميرها-إمام-جا...  12 مارس 2019   \n",
       "7482  https://www.assarih.com/a129487-خاص--القصرين--...  12 مارس 2019   \n",
       "7483  https://www.assarih.com/a129486-في-البحيرة---أ...  12 مارس 2019   \n",
       "7484  https://www.assarih.com/a129485-في-المنستير--ي...  12 مارس 2019   \n",
       "\n",
       "        date_dt                                           filename  \\\n",
       "7480 2019-03-12  www.assarih.com__جزائريون_بالطارف_منعوا_20_سيا...   \n",
       "7481 2019-03-12  www.assarih.com__أميرها_إمام_جامع___محاكمة_كتي...   \n",
       "7482 2019-03-12  www.assarih.com__خاص__القصرين___معركة_بين_دوري...   \n",
       "7483 2019-03-12  www.assarih.com__في_البحيرة___أثيوبية_تضع_في_ف...   \n",
       "7484 2019-03-12  www.assarih.com__في_المنستير__ينك_ل_بوالدته_وي...   \n",
       "\n",
       "                                               raw_text  \n",
       "7480  https://www.assarih.com/a129489-جزائريون-بالطا...  \n",
       "7481  https://www.assarih.com/a129488-أميرها-إمام-جا...  \n",
       "7482  https://www.assarih.com/a129487-خاص--القصرين--...  \n",
       "7483  https://www.assarih.com/a129486-في-البحيرة---أ...  \n",
       "7484  https://www.assarih.com/a129485-في-المنستير--ي...  "
      ]
     },
     "execution_count": 46,
     "metadata": {},
     "output_type": "execute_result"
    }
   ],
   "source": [
    "data_df_new.tail()"
   ]
  },
  {
   "cell_type": "markdown",
   "metadata": {},
   "source": [
    "****"
   ]
  },
  {
   "cell_type": "markdown",
   "metadata": {},
   "source": [
    "## Store data frame in pickle file"
   ]
  },
  {
   "cell_type": "code",
   "execution_count": 47,
   "metadata": {},
   "outputs": [],
   "source": [
    "pickle_filepath = '../pickle/articles_db.pickle'\n",
    "csv_filepath = '../pickle/articles_db.csv'"
   ]
  },
  {
   "cell_type": "code",
   "execution_count": 48,
   "metadata": {},
   "outputs": [],
   "source": [
    "import pickle"
   ]
  },
  {
   "cell_type": "code",
   "execution_count": 49,
   "metadata": {},
   "outputs": [
    {
     "name": "stdout",
     "output_type": "stream",
     "text": [
      "(7485, 6) records in updated database.\n"
     ]
    }
   ],
   "source": [
    "if os.path.exists(pickle_filepath):\n",
    "    print(pickle_filepath,'already exists.')\n",
    "    with open(pickle_filepath, 'rb') as f:\n",
    "        data_df_0 = pickle.dump(f)\n",
    "        print(data_df_0.shape,'existing records.')\n",
    "        data_df = pd.concat([data_df_0,data_df_new],axis=0)\n",
    "else:\n",
    "    data_df = data_df_new\n",
    "\n",
    "print(data_df.shape,'records in updated database.')"
   ]
  },
  {
   "cell_type": "code",
   "execution_count": 54,
   "metadata": {},
   "outputs": [
    {
     "data": {
      "text/plain": [
       "False"
      ]
     },
     "execution_count": 54,
     "metadata": {},
     "output_type": "execute_result"
    }
   ],
   "source": [
    "data_df_new.hyperlink.nunique()<data_df_new.shape[0]"
   ]
  },
  {
   "cell_type": "code",
   "execution_count": null,
   "metadata": {},
   "outputs": [],
   "source": [
    "# remove duplicates\n",
    "\n",
    "if data_df_new.hyperlink.nunique()<data_df_new.shape[0]:\n",
    "    data_df_new.drop_duplicates(subset='hyperlink',inplace=True)\n",
    "    data_df_new.shape"
   ]
  },
  {
   "cell_type": "code",
   "execution_count": 79,
   "metadata": {},
   "outputs": [],
   "source": [
    "with open(pickle_filepath, 'wb') as f:\n",
    "    pickle.dump(data_df, f)"
   ]
  },
  {
   "cell_type": "code",
   "execution_count": 80,
   "metadata": {},
   "outputs": [],
   "source": [
    "# meta_data_df.to_csv(csv_filepath,index=True,encoding=\"utf8\")"
   ]
  },
  {
   "cell_type": "code",
   "execution_count": null,
   "metadata": {},
   "outputs": [],
   "source": []
  }
 ],
 "metadata": {
  "kernelspec": {
   "display_name": "Python 3",
   "language": "python",
   "name": "python3"
  },
  "language_info": {
   "codemirror_mode": {
    "name": "ipython",
    "version": 3
   },
   "file_extension": ".py",
   "mimetype": "text/x-python",
   "name": "python",
   "nbconvert_exporter": "python",
   "pygments_lexer": "ipython3",
   "version": "3.7.3"
  },
  "toc": {
   "base_numbering": 1,
   "nav_menu": {},
   "number_sections": true,
   "sideBar": true,
   "skip_h1_title": false,
   "title_cell": "Table of Contents",
   "title_sidebar": "Contents",
   "toc_cell": false,
   "toc_position": {},
   "toc_section_display": true,
   "toc_window_display": true
  }
 },
 "nbformat": 4,
 "nbformat_minor": 2
}
