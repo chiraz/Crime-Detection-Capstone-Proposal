{
 "cells": [
  {
   "cell_type": "code",
   "execution_count": 1,
   "metadata": {},
   "outputs": [],
   "source": [
    "import pandas as pd\n",
    "import re"
   ]
  },
  {
   "cell_type": "code",
   "execution_count": 2,
   "metadata": {},
   "outputs": [],
   "source": [
    "from arabic_nlp_utils import remove_tatweel, remove_diacritics, normalize_arabic_letters"
   ]
  },
  {
   "cell_type": "markdown",
   "metadata": {},
   "source": [
    "## Read Raw Data"
   ]
  },
  {
   "cell_type": "code",
   "execution_count": 19,
   "metadata": {},
   "outputs": [
    {
     "data": {
      "text/plain": [
       "(7484, 5)"
      ]
     },
     "execution_count": 19,
     "metadata": {},
     "output_type": "execute_result"
    }
   ],
   "source": [
    "import pickle\n",
    "\n",
    "with open('../metadata/articles_meta_data.pickle', 'rb') as f:\n",
    "    meta_data_df = pickle.load(f)\n",
    "\n",
    "meta_data_df.shape"
   ]
  },
  {
   "cell_type": "code",
   "execution_count": 20,
   "metadata": {},
   "outputs": [
    {
     "data": {
      "text/html": [
       "<div>\n",
       "<style scoped>\n",
       "    .dataframe tbody tr th:only-of-type {\n",
       "        vertical-align: middle;\n",
       "    }\n",
       "\n",
       "    .dataframe tbody tr th {\n",
       "        vertical-align: top;\n",
       "    }\n",
       "\n",
       "    .dataframe thead th {\n",
       "        text-align: right;\n",
       "    }\n",
       "</style>\n",
       "<table border=\"1\" class=\"dataframe\">\n",
       "  <thead>\n",
       "    <tr style=\"text-align: right;\">\n",
       "      <th></th>\n",
       "      <th>title</th>\n",
       "      <th>hyperlink</th>\n",
       "      <th>date</th>\n",
       "      <th>date_dt</th>\n",
       "      <th>filename</th>\n",
       "    </tr>\n",
       "  </thead>\n",
       "  <tbody>\n",
       "    <tr>\n",
       "      <th>0</th>\n",
       "      <td>في كافّة الولايات : عصابة تورط حزبا كبيرا في ع...</td>\n",
       "      <td>https://www.assarih.com/a161414-في-كافّة-الولا...</td>\n",
       "      <td>24 فيفري 2020</td>\n",
       "      <td>2020-02-24</td>\n",
       "      <td>www.assarih.com__في_كاف_ة_الولايات___عصابة_تور...</td>\n",
       "    </tr>\n",
       "    <tr>\n",
       "      <th>1</th>\n",
       "      <td>تجار ومواطنون يغلقون الطريق المؤدية الى معبر ح...</td>\n",
       "      <td>https://www.assarih.com/a161411-تجار-ومواطنون-...</td>\n",
       "      <td>24 فيفري 2020</td>\n",
       "      <td>2020-02-24</td>\n",
       "      <td>www.assarih.com__تجار_ومواطنون_يغلقون_الطريق_ا...</td>\n",
       "    </tr>\n",
       "    <tr>\n",
       "      <th>2</th>\n",
       "      <td>بنزرت : الإطاحة بعصابة نفذت عملية سطو على منزل</td>\n",
       "      <td>https://www.assarih.com/a161399-بنزرت---الإطاح...</td>\n",
       "      <td>24 فيفري 2020</td>\n",
       "      <td>2020-02-24</td>\n",
       "      <td>www.assarih.com__بنزرت___الإطاحة_بعصابة_نفذت_ع...</td>\n",
       "    </tr>\n",
       "    <tr>\n",
       "      <th>3</th>\n",
       "      <td>في الوردية : يهدد العاملات بسكين ثم يسلبهن</td>\n",
       "      <td>https://www.assarih.com/a161396-في-الوردية---ي...</td>\n",
       "      <td>24 فيفري 2020</td>\n",
       "      <td>2020-02-24</td>\n",
       "      <td>www.assarih.com__في_الوردية___يهدد_العاملات_بس...</td>\n",
       "    </tr>\n",
       "    <tr>\n",
       "      <th>4</th>\n",
       "      <td>الإعدام شنقا في حق مغتصب وقاتل طفلة الـ7 سنوات...</td>\n",
       "      <td>https://www.assarih.com/a161395-الإعدام-شنقا-ف...</td>\n",
       "      <td>24 فيفري 2020</td>\n",
       "      <td>2020-02-24</td>\n",
       "      <td>www.assarih.com__الإعدام_شنقا_في_حق_مغتصب_وقات...</td>\n",
       "    </tr>\n",
       "  </tbody>\n",
       "</table>\n",
       "</div>"
      ],
      "text/plain": [
       "                                               title  \\\n",
       "0  في كافّة الولايات : عصابة تورط حزبا كبيرا في ع...   \n",
       "1  تجار ومواطنون يغلقون الطريق المؤدية الى معبر ح...   \n",
       "2    بنزرت : الإطاحة بعصابة نفذت عملية سطو على منزل    \n",
       "3        في الوردية : يهدد العاملات بسكين ثم يسلبهن    \n",
       "4  الإعدام شنقا في حق مغتصب وقاتل طفلة الـ7 سنوات...   \n",
       "\n",
       "                                           hyperlink           date  \\\n",
       "0  https://www.assarih.com/a161414-في-كافّة-الولا...  24 فيفري 2020   \n",
       "1  https://www.assarih.com/a161411-تجار-ومواطنون-...  24 فيفري 2020   \n",
       "2  https://www.assarih.com/a161399-بنزرت---الإطاح...  24 فيفري 2020   \n",
       "3  https://www.assarih.com/a161396-في-الوردية---ي...  24 فيفري 2020   \n",
       "4  https://www.assarih.com/a161395-الإعدام-شنقا-ف...  24 فيفري 2020   \n",
       "\n",
       "     date_dt                                           filename  \n",
       "0 2020-02-24  www.assarih.com__في_كاف_ة_الولايات___عصابة_تور...  \n",
       "1 2020-02-24  www.assarih.com__تجار_ومواطنون_يغلقون_الطريق_ا...  \n",
       "2 2020-02-24  www.assarih.com__بنزرت___الإطاحة_بعصابة_نفذت_ع...  \n",
       "3 2020-02-24  www.assarih.com__في_الوردية___يهدد_العاملات_بس...  \n",
       "4 2020-02-24  www.assarih.com__الإعدام_شنقا_في_حق_مغتصب_وقات...  "
      ]
     },
     "execution_count": 20,
     "metadata": {},
     "output_type": "execute_result"
    }
   ],
   "source": [
    "meta_data_df.head()"
   ]
  },
  {
   "cell_type": "code",
   "execution_count": 21,
   "metadata": {},
   "outputs": [
    {
     "data": {
      "text/html": [
       "<div>\n",
       "<style scoped>\n",
       "    .dataframe tbody tr th:only-of-type {\n",
       "        vertical-align: middle;\n",
       "    }\n",
       "\n",
       "    .dataframe tbody tr th {\n",
       "        vertical-align: top;\n",
       "    }\n",
       "\n",
       "    .dataframe thead th {\n",
       "        text-align: right;\n",
       "    }\n",
       "</style>\n",
       "<table border=\"1\" class=\"dataframe\">\n",
       "  <thead>\n",
       "    <tr style=\"text-align: right;\">\n",
       "      <th></th>\n",
       "      <th>title</th>\n",
       "      <th>hyperlink</th>\n",
       "      <th>date</th>\n",
       "      <th>date_dt</th>\n",
       "      <th>filename</th>\n",
       "    </tr>\n",
       "  </thead>\n",
       "  <tbody>\n",
       "    <tr>\n",
       "      <th>7480</th>\n",
       "      <td>أليم في صفاقس: ارتفاع عدد التلاميذ ضحايا اغتص...</td>\n",
       "      <td>https://www.assarih.com/a129258--أليم-في-صفاقس...</td>\n",
       "      <td>09 مارس 2019</td>\n",
       "      <td>2019-03-09</td>\n",
       "      <td>www.assarih.com___أليم_في_صفاقس__ارتفاع_عدد_ال...</td>\n",
       "    </tr>\n",
       "    <tr>\n",
       "      <th>7481</th>\n",
       "      <td>عوسجة (بنزرت): إيقاف «جزّار» تعمد ذبح بقرة مر...</td>\n",
       "      <td>https://www.assarih.com/a129256--عوسجة--بنزرت-...</td>\n",
       "      <td>09 مارس 2019</td>\n",
       "      <td>2019-03-09</td>\n",
       "      <td>www.assarih.com___عوسجة__بنزرت___إيقاف__جز_ار_...</td>\n",
       "    </tr>\n",
       "    <tr>\n",
       "      <th>7482</th>\n",
       "      <td>داهمت السلطات الالمانية منزله بكولونيا: التو...</td>\n",
       "      <td>https://www.assarih.com/a129255---داهمت-السلطا...</td>\n",
       "      <td>09 مارس 2019</td>\n",
       "      <td>2019-03-09</td>\n",
       "      <td>www.assarih.com____داهمت_السلطات_الالمانية_منز...</td>\n",
       "    </tr>\n",
       "    <tr>\n",
       "      <th>7483</th>\n",
       "      <td>خاص/  في قفصة: غرس سكينا في رأس غريمه اثر جلسة...</td>\n",
       "      <td>https://www.assarih.com/a129254-خاص---في-قفصة-...</td>\n",
       "      <td>09 مارس 2019</td>\n",
       "      <td>2019-03-09</td>\n",
       "      <td>www.assarih.com__خاص___في_قفصة__غرس_سكينا_في_ر...</td>\n",
       "    </tr>\n",
       "    <tr>\n",
       "      <th>7484</th>\n",
       "      <td>فجر اليوم بالقيروان : طلق ناري استهدف فلاحا من...</td>\n",
       "      <td>https://www.assarih.com/a129250-فجر-اليوم-بالق...</td>\n",
       "      <td>09 مارس 2019</td>\n",
       "      <td>2019-03-09</td>\n",
       "      <td>www.assarih.com__فجر_اليوم_بالقيروان___طلق_نار...</td>\n",
       "    </tr>\n",
       "  </tbody>\n",
       "</table>\n",
       "</div>"
      ],
      "text/plain": [
       "                                                  title  \\\n",
       "7480   أليم في صفاقس: ارتفاع عدد التلاميذ ضحايا اغتص...   \n",
       "7481   عوسجة (بنزرت): إيقاف «جزّار» تعمد ذبح بقرة مر...   \n",
       "7482    داهمت السلطات الالمانية منزله بكولونيا: التو...   \n",
       "7483  خاص/  في قفصة: غرس سكينا في رأس غريمه اثر جلسة...   \n",
       "7484  فجر اليوم بالقيروان : طلق ناري استهدف فلاحا من...   \n",
       "\n",
       "                                              hyperlink          date  \\\n",
       "7480  https://www.assarih.com/a129258--أليم-في-صفاقس...  09 مارس 2019   \n",
       "7481  https://www.assarih.com/a129256--عوسجة--بنزرت-...  09 مارس 2019   \n",
       "7482  https://www.assarih.com/a129255---داهمت-السلطا...  09 مارس 2019   \n",
       "7483  https://www.assarih.com/a129254-خاص---في-قفصة-...  09 مارس 2019   \n",
       "7484  https://www.assarih.com/a129250-فجر-اليوم-بالق...  09 مارس 2019   \n",
       "\n",
       "        date_dt                                           filename  \n",
       "7480 2019-03-09  www.assarih.com___أليم_في_صفاقس__ارتفاع_عدد_ال...  \n",
       "7481 2019-03-09  www.assarih.com___عوسجة__بنزرت___إيقاف__جز_ار_...  \n",
       "7482 2019-03-09  www.assarih.com____داهمت_السلطات_الالمانية_منز...  \n",
       "7483 2019-03-09  www.assarih.com__خاص___في_قفصة__غرس_سكينا_في_ر...  \n",
       "7484 2019-03-09  www.assarih.com__فجر_اليوم_بالقيروان___طلق_نار...  "
      ]
     },
     "execution_count": 21,
     "metadata": {},
     "output_type": "execute_result"
    }
   ],
   "source": [
    "meta_data_df.tail()"
   ]
  },
  {
   "cell_type": "code",
   "execution_count": 22,
   "metadata": {},
   "outputs": [],
   "source": [
    "data_folder_path = '../data/'"
   ]
  },
  {
   "cell_type": "code",
   "execution_count": 40,
   "metadata": {},
   "outputs": [
    {
     "name": "stdout",
     "output_type": "stream",
     "text": [
      "0\n",
      "100\n",
      "200\n",
      "300\n",
      "400\n",
      "500\n",
      "600\n",
      "700\n",
      "800\n",
      "900\n",
      "1000\n",
      "1100\n",
      "1200\n",
      "1300\n",
      "1400\n",
      "1500\n",
      "1600\n",
      "1700\n",
      "1800\n",
      "1900\n",
      "2000\n",
      "2100\n",
      "2200\n",
      "2300\n",
      "2400\n",
      "2500\n",
      "2600\n",
      "2700\n",
      "2800\n",
      "2900\n",
      "3000\n",
      "3100\n",
      "3200\n",
      "3300\n",
      "3400\n",
      "3500\n",
      "3600\n",
      "3700\n",
      "3800\n",
      "3900\n",
      "4000\n",
      "4100\n",
      "4200\n",
      "4300\n",
      "4400\n",
      "4500\n",
      "4600\n",
      "4700\n",
      "4800\n",
      "4900\n",
      "5000\n",
      "5100\n",
      "5200\n",
      "5300\n",
      "5400\n",
      "5500\n",
      "5600\n",
      "5700\n",
      "5800\n",
      "5900\n",
      "6000\n",
      "6100\n",
      "6200\n",
      "6300\n",
      "6400\n",
      "6500\n",
      "6600\n",
      "6700\n",
      "6800\n",
      "6900\n",
      "7000\n",
      "7100\n",
      "7200\n",
      "7300\n",
      "7400\n"
     ]
    }
   ],
   "source": [
    "import os.path\n",
    "\n",
    "raw_corpus = []\n",
    "for i,filename in enumerate(meta_data_df.filename):\n",
    "    filename = data_folder_path + filename\n",
    "    u = ''\n",
    "    if os.path.exists(filename):\n",
    "        with open(filename, 'r', encoding='utf8') as f:\n",
    "            u = f.read()\n",
    "    raw_corpus.append(u)\n",
    "    if (i%100)==0:\n",
    "        print(i)\n",
    "\n",
    "assert meta_data_df.shape[0]==len(raw_corpus)"
   ]
  },
  {
   "cell_type": "markdown",
   "metadata": {},
   "source": [
    "*****"
   ]
  },
  {
   "cell_type": "markdown",
   "metadata": {},
   "source": [
    "## Cleanup Text"
   ]
  },
  {
   "cell_type": "code",
   "execution_count": 41,
   "metadata": {},
   "outputs": [],
   "source": [
    "def cleanup_text(text):\n",
    "    if text == '':\n",
    "        return ''\n",
    "    # orthographic normalization of certain arabic characters\n",
    "    text = remove_diacritics(text)\n",
    "    text = remove_tatweel(text)\n",
    "    text = normalize_arabic_letters(text)\n",
    "    \n",
    "    ## remove urls\n",
    "    text = re.sub('((www\\.[^\\s]+)|(https?://[^\\s]+))', '', text)\n",
    "\n",
    "    ## TO DO: light stemming based on common prefixes\n",
    "\n",
    "    # Replace special markup text between {}\n",
    "    text = re.sub('[a-zA-Z]+[a-zA-Z\\-\\s\\d{}();\\.\\']+', ' ', text)\n",
    "\n",
    "    # Remove redundant white spaces\n",
    "    text = re.sub('\\s+', ' ', text)\n",
    "    text = text.strip()\n",
    "\n",
    "    return text"
   ]
  },
  {
   "cell_type": "code",
   "execution_count": 25,
   "metadata": {},
   "outputs": [
    {
     "name": "stdout",
     "output_type": "stream",
     "text": [
      "بِسْمِ اللهِ الرَّحْمٰنِ الرَّحِيمِ\n",
      "بسم الله الرحمٰن الرحيم\n",
      " ؤ ئ إ أ ٱ آ واسى في\n",
      "ء ء ا ا ا ا واسي في\n",
      "جـــمـــيـــل\n",
      "جميل\n",
      "مواڞفات وسعر هاتف أيفون 8  ڞ الجديد\n",
      "مواڞفات وسعر هاتف ايفون 8 ڞ الجديد\n"
     ]
    }
   ],
   "source": [
    "L = [\"بِسْمِ اللهِ الرَّحْمٰنِ الرَّحِيمِ\" ,  \" ؤ ئ إ أ ٱ آ واسى في\" , 'جـــمـــيـــل' , \"مواڞفات وسعر هاتف أيفون 8  ڞ الجديد\"]\n",
    "for x in L:\n",
    "    print(x)\n",
    "    print(cleanup_text(x))"
   ]
  },
  {
   "cell_type": "code",
   "execution_count": 26,
   "metadata": {},
   "outputs": [
    {
     "data": {
      "text/plain": [
       "''"
      ]
     },
     "execution_count": 26,
     "metadata": {},
     "output_type": "execute_result"
    }
   ],
   "source": [
    "text = \"googletag.cmd.push(function() { googletag.display('div-gpt-ad-1546942376253-0'); });   \"\n",
    "cleanup_text(text)"
   ]
  },
  {
   "cell_type": "code",
   "execution_count": 27,
   "metadata": {},
   "outputs": [
    {
     "data": {
      "text/plain": [
       "Index(['title', 'hyperlink', 'date', 'date_dt', 'filename'], dtype='object')"
      ]
     },
     "execution_count": 27,
     "metadata": {},
     "output_type": "execute_result"
    }
   ],
   "source": [
    "meta_data_df.columns"
   ]
  },
  {
   "cell_type": "code",
   "execution_count": 45,
   "metadata": {},
   "outputs": [
    {
     "data": {
      "text/html": [
       "<div>\n",
       "<style scoped>\n",
       "    .dataframe tbody tr th:only-of-type {\n",
       "        vertical-align: middle;\n",
       "    }\n",
       "\n",
       "    .dataframe tbody tr th {\n",
       "        vertical-align: top;\n",
       "    }\n",
       "\n",
       "    .dataframe thead th {\n",
       "        text-align: right;\n",
       "    }\n",
       "</style>\n",
       "<table border=\"1\" class=\"dataframe\">\n",
       "  <thead>\n",
       "    <tr style=\"text-align: right;\">\n",
       "      <th></th>\n",
       "      <th>title</th>\n",
       "      <th>date_dt</th>\n",
       "    </tr>\n",
       "  </thead>\n",
       "  <tbody>\n",
       "    <tr>\n",
       "      <th>0</th>\n",
       "      <td>في كافّة الولايات : عصابة تورط حزبا كبيرا في ع...</td>\n",
       "      <td>2020-02-24</td>\n",
       "    </tr>\n",
       "    <tr>\n",
       "      <th>1</th>\n",
       "      <td>تجار ومواطنون يغلقون الطريق المؤدية الى معبر ح...</td>\n",
       "      <td>2020-02-24</td>\n",
       "    </tr>\n",
       "    <tr>\n",
       "      <th>2</th>\n",
       "      <td>بنزرت : الإطاحة بعصابة نفذت عملية سطو على منزل</td>\n",
       "      <td>2020-02-24</td>\n",
       "    </tr>\n",
       "    <tr>\n",
       "      <th>3</th>\n",
       "      <td>في الوردية : يهدد العاملات بسكين ثم يسلبهن</td>\n",
       "      <td>2020-02-24</td>\n",
       "    </tr>\n",
       "    <tr>\n",
       "      <th>4</th>\n",
       "      <td>الإعدام شنقا في حق مغتصب وقاتل طفلة الـ7 سنوات...</td>\n",
       "      <td>2020-02-24</td>\n",
       "    </tr>\n",
       "  </tbody>\n",
       "</table>\n",
       "</div>"
      ],
      "text/plain": [
       "                                               title    date_dt\n",
       "0  في كافّة الولايات : عصابة تورط حزبا كبيرا في ع... 2020-02-24\n",
       "1  تجار ومواطنون يغلقون الطريق المؤدية الى معبر ح... 2020-02-24\n",
       "2    بنزرت : الإطاحة بعصابة نفذت عملية سطو على منزل  2020-02-24\n",
       "3        في الوردية : يهدد العاملات بسكين ثم يسلبهن  2020-02-24\n",
       "4  الإعدام شنقا في حق مغتصب وقاتل طفلة الـ7 سنوات... 2020-02-24"
      ]
     },
     "execution_count": 45,
     "metadata": {},
     "output_type": "execute_result"
    }
   ],
   "source": [
    "corpus_df = meta_data_df[['title', 'date_dt']].copy()\n",
    "corpus_df.head()"
   ]
  },
  {
   "cell_type": "code",
   "execution_count": 56,
   "metadata": {},
   "outputs": [
    {
     "data": {
      "text/html": [
       "<div>\n",
       "<style scoped>\n",
       "    .dataframe tbody tr th:only-of-type {\n",
       "        vertical-align: middle;\n",
       "    }\n",
       "\n",
       "    .dataframe tbody tr th {\n",
       "        vertical-align: top;\n",
       "    }\n",
       "\n",
       "    .dataframe thead th {\n",
       "        text-align: right;\n",
       "    }\n",
       "</style>\n",
       "<table border=\"1\" class=\"dataframe\">\n",
       "  <thead>\n",
       "    <tr style=\"text-align: right;\">\n",
       "      <th></th>\n",
       "      <th>title</th>\n",
       "      <th>date_dt</th>\n",
       "      <th>raw_doc</th>\n",
       "    </tr>\n",
       "  </thead>\n",
       "  <tbody>\n",
       "    <tr>\n",
       "      <th>0</th>\n",
       "      <td>في كافّة الولايات : عصابة تورط حزبا كبيرا في ع...</td>\n",
       "      <td>2020-02-24</td>\n",
       "      <td></td>\n",
       "    </tr>\n",
       "    <tr>\n",
       "      <th>1</th>\n",
       "      <td>تجار ومواطنون يغلقون الطريق المؤدية الى معبر ح...</td>\n",
       "      <td>2020-02-24</td>\n",
       "      <td></td>\n",
       "    </tr>\n",
       "    <tr>\n",
       "      <th>2</th>\n",
       "      <td>بنزرت : الإطاحة بعصابة نفذت عملية سطو على منزل</td>\n",
       "      <td>2020-02-24</td>\n",
       "      <td></td>\n",
       "    </tr>\n",
       "    <tr>\n",
       "      <th>3</th>\n",
       "      <td>في الوردية : يهدد العاملات بسكين ثم يسلبهن</td>\n",
       "      <td>2020-02-24</td>\n",
       "      <td></td>\n",
       "    </tr>\n",
       "    <tr>\n",
       "      <th>4</th>\n",
       "      <td>الإعدام شنقا في حق مغتصب وقاتل طفلة الـ7 سنوات...</td>\n",
       "      <td>2020-02-24</td>\n",
       "      <td></td>\n",
       "    </tr>\n",
       "    <tr>\n",
       "      <th>5</th>\n",
       "      <td>أحكام بين عام و36 سنة سجنا في حق شبكة لتسفير ا...</td>\n",
       "      <td>2020-02-24</td>\n",
       "      <td></td>\n",
       "    </tr>\n",
       "    <tr>\n",
       "      <th>6</th>\n",
       "      <td>في باب بحر : القبض على منحرف محلّ 13  منشور تف...</td>\n",
       "      <td>2020-02-24</td>\n",
       "      <td></td>\n",
       "    </tr>\n",
       "    <tr>\n",
       "      <th>7</th>\n",
       "      <td>بنزرت : حريق \"يلتهم\" منزلا</td>\n",
       "      <td>2020-02-24</td>\n",
       "      <td></td>\n",
       "    </tr>\n",
       "    <tr>\n",
       "      <th>8</th>\n",
       "      <td>وفاة المدير الجهوي للديوانة بالقصرين في حادث ...</td>\n",
       "      <td>2020-02-24</td>\n",
       "      <td>https://www.assarih.com/a161371--وفاة-المدير-ا...</td>\n",
       "    </tr>\n",
       "    <tr>\n",
       "      <th>9</th>\n",
       "      <td>منزل بورقيبة: وفاة عون أمن في حادث مرور</td>\n",
       "      <td>2020-02-23</td>\n",
       "      <td>https://www.assarih.com/a161365-منزل-بورقيبة--...</td>\n",
       "    </tr>\n",
       "    <tr>\n",
       "      <th>10</th>\n",
       "      <td>محكوم في قضية إرهابية: الإطاحة بعائد من داعش م...</td>\n",
       "      <td>2020-02-23</td>\n",
       "      <td>https://www.assarih.com/a161362-محكوم-في-قضية-...</td>\n",
       "    </tr>\n",
       "    <tr>\n",
       "      <th>11</th>\n",
       "      <td>جندوبة/ مداهمة منزل مهرّب وحجز سلع</td>\n",
       "      <td>2020-02-23</td>\n",
       "      <td>https://www.assarih.com/a161355-جندوبة--مداهمة...</td>\n",
       "    </tr>\n",
       "    <tr>\n",
       "      <th>12</th>\n",
       "      <td>صفاقس: القبض على شخص محكوم بالسجن لمدة 65 سنة</td>\n",
       "      <td>2020-02-23</td>\n",
       "      <td>https://www.assarih.com/a161351-صفاقس--القبض-ع...</td>\n",
       "    </tr>\n",
       "    <tr>\n",
       "      <th>13</th>\n",
       "      <td>متابعة/ اعترافات مغتصب طفلته والمتسبب بحملها ف...</td>\n",
       "      <td>2020-02-23</td>\n",
       "      <td>https://www.assarih.com/a161348-متابعة--اعتراف...</td>\n",
       "    </tr>\n",
       "    <tr>\n",
       "      <th>14</th>\n",
       "      <td>بعد ايقاف مدير شركة خاصة/ الكشف عن شبكة رجال أ...</td>\n",
       "      <td>2020-02-23</td>\n",
       "      <td>https://www.assarih.com/a161343-بعد-ايقاف-مدير...</td>\n",
       "    </tr>\n",
       "    <tr>\n",
       "      <th>15</th>\n",
       "      <td>المتلوي/ حاول الاعتداء على ذاته البشرية بشفرة ...</td>\n",
       "      <td>2020-02-23</td>\n",
       "      <td>https://www.assarih.com/a161340-المتلوي--حاول-...</td>\n",
       "    </tr>\n",
       "    <tr>\n",
       "      <th>16</th>\n",
       "      <td>القصرين/ حجز سلاح دون رخصة على ملك مهرب</td>\n",
       "      <td>2020-02-23</td>\n",
       "      <td>https://www.assarih.com/a161333-القصرين--حجز-س...</td>\n",
       "    </tr>\n",
       "    <tr>\n",
       "      <th>17</th>\n",
       "      <td>ورط ابناء ميسورين ومشاهير معه/ الاطاحة باكبر ب...</td>\n",
       "      <td>2020-02-23</td>\n",
       "      <td>https://www.assarih.com/a161330-ورط-ابناء-ميسو...</td>\n",
       "    </tr>\n",
       "    <tr>\n",
       "      <th>18</th>\n",
       "      <td>القبض على عنصر خطير داخل ملهى ليلي</td>\n",
       "      <td>2020-02-23</td>\n",
       "      <td>https://www.assarih.com/a161326-القبض-على-عنصر...</td>\n",
       "    </tr>\n",
       "    <tr>\n",
       "      <th>19</th>\n",
       "      <td>في العاصمة : التنكيل بشاب هب لنجدة فتاة من \"بر...</td>\n",
       "      <td>2020-02-23</td>\n",
       "      <td>https://www.assarih.com/a161325-في-العاصمة---ا...</td>\n",
       "    </tr>\n",
       "  </tbody>\n",
       "</table>\n",
       "</div>"
      ],
      "text/plain": [
       "                                                title    date_dt  \\\n",
       "0   في كافّة الولايات : عصابة تورط حزبا كبيرا في ع... 2020-02-24   \n",
       "1   تجار ومواطنون يغلقون الطريق المؤدية الى معبر ح... 2020-02-24   \n",
       "2     بنزرت : الإطاحة بعصابة نفذت عملية سطو على منزل  2020-02-24   \n",
       "3         في الوردية : يهدد العاملات بسكين ثم يسلبهن  2020-02-24   \n",
       "4   الإعدام شنقا في حق مغتصب وقاتل طفلة الـ7 سنوات... 2020-02-24   \n",
       "5   أحكام بين عام و36 سنة سجنا في حق شبكة لتسفير ا... 2020-02-24   \n",
       "6   في باب بحر : القبض على منحرف محلّ 13  منشور تف... 2020-02-24   \n",
       "7                         بنزرت : حريق \"يلتهم\" منزلا  2020-02-24   \n",
       "8    وفاة المدير الجهوي للديوانة بالقصرين في حادث ... 2020-02-24   \n",
       "9            منزل بورقيبة: وفاة عون أمن في حادث مرور  2020-02-23   \n",
       "10  محكوم في قضية إرهابية: الإطاحة بعائد من داعش م... 2020-02-23   \n",
       "11                جندوبة/ مداهمة منزل مهرّب وحجز سلع  2020-02-23   \n",
       "12    صفاقس: القبض على شخص محكوم بالسجن لمدة 65 سنة   2020-02-23   \n",
       "13  متابعة/ اعترافات مغتصب طفلته والمتسبب بحملها ف... 2020-02-23   \n",
       "14  بعد ايقاف مدير شركة خاصة/ الكشف عن شبكة رجال أ... 2020-02-23   \n",
       "15  المتلوي/ حاول الاعتداء على ذاته البشرية بشفرة ... 2020-02-23   \n",
       "16           القصرين/ حجز سلاح دون رخصة على ملك مهرب  2020-02-23   \n",
       "17  ورط ابناء ميسورين ومشاهير معه/ الاطاحة باكبر ب... 2020-02-23   \n",
       "18                 القبض على عنصر خطير داخل ملهى ليلي 2020-02-23   \n",
       "19  في العاصمة : التنكيل بشاب هب لنجدة فتاة من \"بر... 2020-02-23   \n",
       "\n",
       "                                              raw_doc  \n",
       "0                                                      \n",
       "1                                                      \n",
       "2                                                      \n",
       "3                                                      \n",
       "4                                                      \n",
       "5                                                      \n",
       "6                                                      \n",
       "7                                                      \n",
       "8   https://www.assarih.com/a161371--وفاة-المدير-ا...  \n",
       "9   https://www.assarih.com/a161365-منزل-بورقيبة--...  \n",
       "10  https://www.assarih.com/a161362-محكوم-في-قضية-...  \n",
       "11  https://www.assarih.com/a161355-جندوبة--مداهمة...  \n",
       "12  https://www.assarih.com/a161351-صفاقس--القبض-ع...  \n",
       "13  https://www.assarih.com/a161348-متابعة--اعتراف...  \n",
       "14  https://www.assarih.com/a161343-بعد-ايقاف-مدير...  \n",
       "15  https://www.assarih.com/a161340-المتلوي--حاول-...  \n",
       "16  https://www.assarih.com/a161333-القصرين--حجز-س...  \n",
       "17  https://www.assarih.com/a161330-ورط-ابناء-ميسو...  \n",
       "18  https://www.assarih.com/a161326-القبض-على-عنصر...  \n",
       "19  https://www.assarih.com/a161325-في-العاصمة---ا...  "
      ]
     },
     "execution_count": 56,
     "metadata": {},
     "output_type": "execute_result"
    }
   ],
   "source": [
    "corpus_df['raw_doc'] = pd.Series(raw_corpus, index=corpus_df.index)\n",
    "corpus_df.head(20)"
   ]
  },
  {
   "cell_type": "code",
   "execution_count": 57,
   "metadata": {},
   "outputs": [
    {
     "name": "stdout",
     "output_type": "stream",
     "text": [
      "Wall time: 1.1 s\n"
     ]
    },
    {
     "data": {
      "text/html": [
       "<div>\n",
       "<style scoped>\n",
       "    .dataframe tbody tr th:only-of-type {\n",
       "        vertical-align: middle;\n",
       "    }\n",
       "\n",
       "    .dataframe tbody tr th {\n",
       "        vertical-align: top;\n",
       "    }\n",
       "\n",
       "    .dataframe thead th {\n",
       "        text-align: right;\n",
       "    }\n",
       "</style>\n",
       "<table border=\"1\" class=\"dataframe\">\n",
       "  <thead>\n",
       "    <tr style=\"text-align: right;\">\n",
       "      <th></th>\n",
       "      <th>title</th>\n",
       "      <th>date_dt</th>\n",
       "      <th>raw_doc</th>\n",
       "      <th>clean_doc</th>\n",
       "    </tr>\n",
       "  </thead>\n",
       "  <tbody>\n",
       "    <tr>\n",
       "      <th>0</th>\n",
       "      <td>في كافّة الولايات : عصابة تورط حزبا كبيرا في ع...</td>\n",
       "      <td>2020-02-24</td>\n",
       "      <td></td>\n",
       "      <td></td>\n",
       "    </tr>\n",
       "    <tr>\n",
       "      <th>1</th>\n",
       "      <td>تجار ومواطنون يغلقون الطريق المؤدية الى معبر ح...</td>\n",
       "      <td>2020-02-24</td>\n",
       "      <td></td>\n",
       "      <td></td>\n",
       "    </tr>\n",
       "    <tr>\n",
       "      <th>2</th>\n",
       "      <td>بنزرت : الإطاحة بعصابة نفذت عملية سطو على منزل</td>\n",
       "      <td>2020-02-24</td>\n",
       "      <td></td>\n",
       "      <td></td>\n",
       "    </tr>\n",
       "    <tr>\n",
       "      <th>3</th>\n",
       "      <td>في الوردية : يهدد العاملات بسكين ثم يسلبهن</td>\n",
       "      <td>2020-02-24</td>\n",
       "      <td></td>\n",
       "      <td></td>\n",
       "    </tr>\n",
       "    <tr>\n",
       "      <th>4</th>\n",
       "      <td>الإعدام شنقا في حق مغتصب وقاتل طفلة الـ7 سنوات...</td>\n",
       "      <td>2020-02-24</td>\n",
       "      <td></td>\n",
       "      <td></td>\n",
       "    </tr>\n",
       "  </tbody>\n",
       "</table>\n",
       "</div>"
      ],
      "text/plain": [
       "                                               title    date_dt raw_doc  \\\n",
       "0  في كافّة الولايات : عصابة تورط حزبا كبيرا في ع... 2020-02-24           \n",
       "1  تجار ومواطنون يغلقون الطريق المؤدية الى معبر ح... 2020-02-24           \n",
       "2    بنزرت : الإطاحة بعصابة نفذت عملية سطو على منزل  2020-02-24           \n",
       "3        في الوردية : يهدد العاملات بسكين ثم يسلبهن  2020-02-24           \n",
       "4  الإعدام شنقا في حق مغتصب وقاتل طفلة الـ7 سنوات... 2020-02-24           \n",
       "\n",
       "  clean_doc  \n",
       "0            \n",
       "1            \n",
       "2            \n",
       "3            \n",
       "4            "
      ]
     },
     "execution_count": 57,
     "metadata": {},
     "output_type": "execute_result"
    }
   ],
   "source": [
    "%time corpus_df['clean_doc'] = corpus_df.raw_doc.map(cleanup_text)\n",
    "corpus_df.head()"
   ]
  },
  {
   "cell_type": "code",
   "execution_count": 58,
   "metadata": {},
   "outputs": [
    {
     "data": {
      "text/plain": [
       "''"
      ]
     },
     "execution_count": 58,
     "metadata": {},
     "output_type": "execute_result"
    }
   ],
   "source": [
    "corpus_df.raw_doc[0]"
   ]
  },
  {
   "cell_type": "code",
   "execution_count": 59,
   "metadata": {},
   "outputs": [
    {
     "data": {
      "text/plain": [
       "''"
      ]
     },
     "execution_count": 59,
     "metadata": {},
     "output_type": "execute_result"
    }
   ],
   "source": [
    "corpus_df.clean_doc[0]"
   ]
  },
  {
   "cell_type": "code",
   "execution_count": 63,
   "metadata": {},
   "outputs": [
    {
     "data": {
      "text/plain": [
       "\"https://www.assarih.com/a160989-فلاّح-يستدرج-تلاميذ-بمقابل-مادي-للعمل-في-شبكات-دعارة-..وصور-للابتزاز\\ngoogletag.cmd.push(function() { googletag.display('div-gpt-ad-1546942376253-0'); });        علمت الصريح اون لاين ان الوحدات الامنية بتاجروين من ولاية الكاف اطاحت بفلاح ميسور الحال تورط في استدراج اكثر من 5 تلاميذ قصر للعمل معه كوسطاء في شبكات دعارة مقابل مبالغ تتراوح بين 100 دينار و150 دينارا  وقد كلف هذا الفلاح التلاميذ باستقطاب فتيات تلميذات والتوسط معهن للعمل في الشبكة  هذا وقد تعرضت تلميذتان لعمليات ابتزاز من التلاميذ بسبب صور فاضحة تمت قرصنتها من صفحات فايسبوكية.  م.م                    googletag.cmd.push(function() { googletag.display('div-gpt-ad-1546942685971-0'); });\""
      ]
     },
     "execution_count": 63,
     "metadata": {},
     "output_type": "execute_result"
    }
   ],
   "source": [
    "corpus_df.raw_doc[100]"
   ]
  },
  {
   "cell_type": "code",
   "execution_count": 62,
   "metadata": {},
   "outputs": [
    {
     "data": {
      "text/plain": [
       "'علمت الصريح اون لاين ان الوحدات الامنية بتاجروين من ولاية الكاف اطاحت بفلاح ميسور الحال تورط في استدراج اكثر من 5 تلاميذ قصر للعمل معه كوسطاء في شبكات دعارة مقابل مبالغ تتراوح بين 100 دينار و150 دينارا وقد كلف هذا الفلاح التلاميذ باستقطاب فتيات تلميذات والتوسط معهن للعمل في الشبكة هذا وقد تعرضت تلميذتان لعمليات ابتزاز من التلاميذ بسبب صور فاضحة تمت قرصنتها من صفحات فايسبوكية. م.م'"
      ]
     },
     "execution_count": 62,
     "metadata": {},
     "output_type": "execute_result"
    }
   ],
   "source": [
    "corpus_df.clean_doc[100]"
   ]
  },
  {
   "cell_type": "markdown",
   "metadata": {},
   "source": [
    "****"
   ]
  },
  {
   "cell_type": "code",
   "execution_count": 64,
   "metadata": {},
   "outputs": [],
   "source": [
    "corpus_df_filepath = '../metadata/articles_raw_and_clean.pickle'\n",
    "\n",
    "with open(corpus_df_filepath, 'wb') as f:\n",
    "    pickle.dump(corpus_df, f)"
   ]
  },
  {
   "cell_type": "code",
   "execution_count": null,
   "metadata": {},
   "outputs": [],
   "source": []
  }
 ],
 "metadata": {
  "kernelspec": {
   "display_name": "Python 3",
   "language": "python",
   "name": "python3"
  },
  "language_info": {
   "codemirror_mode": {
    "name": "ipython",
    "version": 3
   },
   "file_extension": ".py",
   "mimetype": "text/x-python",
   "name": "python",
   "nbconvert_exporter": "python",
   "pygments_lexer": "ipython3",
   "version": "3.7.3"
  },
  "toc": {
   "base_numbering": 1,
   "nav_menu": {},
   "number_sections": true,
   "sideBar": true,
   "skip_h1_title": false,
   "title_cell": "Table of Contents",
   "title_sidebar": "Contents",
   "toc_cell": false,
   "toc_position": {
    "height": "calc(100% - 180px)",
    "left": "10px",
    "top": "150px",
    "width": "306.26px"
   },
   "toc_section_display": true,
   "toc_window_display": true
  }
 },
 "nbformat": 4,
 "nbformat_minor": 2
}
